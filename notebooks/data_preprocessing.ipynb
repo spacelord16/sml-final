{
 "cells": [
  {
   "cell_type": "code",
   "execution_count": null,
   "metadata": {},
   "outputs": [
    {
     "name": "stdout",
     "output_type": "stream",
     "text": [
      "Downloading http://yann.lecun.com/exdb/mnist/train-images-idx3-ubyte.gz\n",
      "Failed to download (trying next):\n",
      "HTTP Error 403: Forbidden\n",
      "\n",
      "Downloading https://ossci-datasets.s3.amazonaws.com/mnist/train-images-idx3-ubyte.gz\n",
      "Downloading https://ossci-datasets.s3.amazonaws.com/mnist/train-images-idx3-ubyte.gz to D:\\ASU\\Fall 2024\\EEE549\\Final term project\\sml-final\\data\\MNIST\\raw\\train-images-idx3-ubyte.gz\n"
     ]
    },
    {
     "name": "stderr",
     "output_type": "stream",
     "text": [
      "100%|██████████| 9912422/9912422 [00:00<00:00, 13434961.60it/s]\n"
     ]
    },
    {
     "name": "stdout",
     "output_type": "stream",
     "text": [
      "Extracting D:\\ASU\\Fall 2024\\EEE549\\Final term project\\sml-final\\data\\MNIST\\raw\\train-images-idx3-ubyte.gz to D:\\ASU\\Fall 2024\\EEE549\\Final term project\\sml-final\\data\\MNIST\\raw\n",
      "\n",
      "Downloading http://yann.lecun.com/exdb/mnist/train-labels-idx1-ubyte.gz\n",
      "Failed to download (trying next):\n",
      "HTTP Error 403: Forbidden\n",
      "\n",
      "Downloading https://ossci-datasets.s3.amazonaws.com/mnist/train-labels-idx1-ubyte.gz\n",
      "Downloading https://ossci-datasets.s3.amazonaws.com/mnist/train-labels-idx1-ubyte.gz to D:\\ASU\\Fall 2024\\EEE549\\Final term project\\sml-final\\data\\MNIST\\raw\\train-labels-idx1-ubyte.gz\n"
     ]
    },
    {
     "name": "stderr",
     "output_type": "stream",
     "text": [
      "100%|██████████| 28881/28881 [00:00<00:00, 9595666.49it/s]\n"
     ]
    },
    {
     "name": "stdout",
     "output_type": "stream",
     "text": [
      "Extracting D:\\ASU\\Fall 2024\\EEE549\\Final term project\\sml-final\\data\\MNIST\\raw\\train-labels-idx1-ubyte.gz to D:\\ASU\\Fall 2024\\EEE549\\Final term project\\sml-final\\data\\MNIST\\raw\n",
      "\n",
      "Downloading http://yann.lecun.com/exdb/mnist/t10k-images-idx3-ubyte.gz\n",
      "Failed to download (trying next):\n",
      "HTTP Error 403: Forbidden\n",
      "\n",
      "Downloading https://ossci-datasets.s3.amazonaws.com/mnist/t10k-images-idx3-ubyte.gz\n",
      "Downloading https://ossci-datasets.s3.amazonaws.com/mnist/t10k-images-idx3-ubyte.gz to D:\\ASU\\Fall 2024\\EEE549\\Final term project\\sml-final\\data\\MNIST\\raw\\t10k-images-idx3-ubyte.gz\n"
     ]
    },
    {
     "name": "stderr",
     "output_type": "stream",
     "text": [
      "100%|██████████| 1648877/1648877 [00:00<00:00, 4318653.30it/s]\n"
     ]
    },
    {
     "name": "stdout",
     "output_type": "stream",
     "text": [
      "Extracting D:\\ASU\\Fall 2024\\EEE549\\Final term project\\sml-final\\data\\MNIST\\raw\\t10k-images-idx3-ubyte.gz to D:\\ASU\\Fall 2024\\EEE549\\Final term project\\sml-final\\data\\MNIST\\raw\n",
      "\n",
      "Downloading http://yann.lecun.com/exdb/mnist/t10k-labels-idx1-ubyte.gz\n",
      "Failed to download (trying next):\n",
      "HTTP Error 403: Forbidden\n",
      "\n",
      "Downloading https://ossci-datasets.s3.amazonaws.com/mnist/t10k-labels-idx1-ubyte.gz\n",
      "Downloading https://ossci-datasets.s3.amazonaws.com/mnist/t10k-labels-idx1-ubyte.gz to D:\\ASU\\Fall 2024\\EEE549\\Final term project\\sml-final\\data\\MNIST\\raw\\t10k-labels-idx1-ubyte.gz\n"
     ]
    },
    {
     "name": "stderr",
     "output_type": "stream",
     "text": [
      "100%|██████████| 4542/4542 [00:00<00:00, 1134973.41it/s]\n"
     ]
    },
    {
     "name": "stdout",
     "output_type": "stream",
     "text": [
      "Extracting D:\\ASU\\Fall 2024\\EEE549\\Final term project\\sml-final\\data\\MNIST\\raw\\t10k-labels-idx1-ubyte.gz to D:\\ASU\\Fall 2024\\EEE549\\Final term project\\sml-final\\data\\MNIST\\raw\n",
      "\n",
      "Downloading https://www.cs.toronto.edu/~kriz/cifar-10-python.tar.gz to D:\\ASU\\Fall 2024\\EEE549\\Final term project\\sml-final\\data\\cifar-10-python.tar.gz\n"
     ]
    },
    {
     "name": "stderr",
     "output_type": "stream",
     "text": [
      "100%|██████████| 170498071/170498071 [00:04<00:00, 34477958.11it/s]\n"
     ]
    },
    {
     "name": "stdout",
     "output_type": "stream",
     "text": [
      "Extracting D:\\ASU\\Fall 2024\\EEE549\\Final term project\\sml-final\\data\\cifar-10-python.tar.gz to D:\\ASU\\Fall 2024\\EEE549\\Final term project\\sml-final\\data\n",
      "Files already downloaded and verified\n"
     ]
    }
   ],
   "source": [
    "import torch\n",
    "import torchvision\n",
    "import torchvision.transforms as transforms\n",
    "\n",
    "# # Setting a seed for reproducibility\n",
    "# torch.manual_seed(0)\n",
    "\n",
    "# # Transformations applied on each image\n",
    "# transform = transforms.Compose([\n",
    "#     transforms.ToTensor(),  # convert image to PyTorch tensor\n",
    "#     transforms.Normalize((0.5,), (0.5,))  # normalize dataset for MNIST\n",
    "# ])\n",
    "\n",
    "# # Download MNIST Dataset\n",
    "# trainset_mnist = torchvision.datasets.MNIST(root='D:\\ASU\\Fall 2024\\EEE549\\Final term project\\sml-final\\data', train=True,\n",
    "#                                             download=True, transform=transform)\n",
    "# testset_mnist = torchvision.datasets.MNIST(root='D:\\ASU\\Fall 2024\\EEE549\\Final term project\\sml-final\\data', train=False,\n",
    "#                                            download=True, transform=transform)\n",
    "\n",
    "# # Download CIFAR10 Dataset\n",
    "# transform_cifar = transforms.Compose([\n",
    "#     transforms.ToTensor(),\n",
    "#     transforms.Normalize((0.5, 0.5, 0.5), (0.5, 0.5, 0.5))  # normalize dataset for CIFAR10\n",
    "# ])\n",
    "\n",
    "# trainset_cifar = torchvision.datasets.CIFAR10(root='D:\\ASU\\Fall 2024\\EEE549\\Final term project\\sml-final\\data', train=True,\n",
    "#                                               download=True, transform=transform_cifar)\n",
    "# testset_cifar = torchvision.datasets.CIFAR10(root='D:\\ASU\\Fall 2024\\EEE549\\Final term project\\sml-final\\data', train=False,\n",
    "#                                              download=True, transform=transform_cifar)\n",
    "\n"
   ]
  },
  {
   "cell_type": "markdown",
   "metadata": {},
   "source": [
    "### MNIST"
   ]
  },
  {
   "cell_type": "code",
   "execution_count": 7,
   "metadata": {},
   "outputs": [
    {
     "name": "stdout",
     "output_type": "stream",
     "text": [
      "Downloading http://yann.lecun.com/exdb/mnist/train-images-idx3-ubyte.gz\n",
      "Failed to download (trying next):\n",
      "HTTP Error 403: Forbidden\n",
      "\n",
      "Downloading https://ossci-datasets.s3.amazonaws.com/mnist/train-images-idx3-ubyte.gz\n",
      "Downloading https://ossci-datasets.s3.amazonaws.com/mnist/train-images-idx3-ubyte.gz to D:\\ASU\\Fall 2024\\EEE549\\Final term project\\sml-final\\data\\MNIST\\raw\\train-images-idx3-ubyte.gz\n"
     ]
    },
    {
     "name": "stderr",
     "output_type": "stream",
     "text": [
      "100%|██████████| 9912422/9912422 [00:01<00:00, 8150741.79it/s] \n"
     ]
    },
    {
     "name": "stdout",
     "output_type": "stream",
     "text": [
      "Extracting D:\\ASU\\Fall 2024\\EEE549\\Final term project\\sml-final\\data\\MNIST\\raw\\train-images-idx3-ubyte.gz to D:\\ASU\\Fall 2024\\EEE549\\Final term project\\sml-final\\data\\MNIST\\raw\n",
      "\n",
      "Downloading http://yann.lecun.com/exdb/mnist/train-labels-idx1-ubyte.gz\n",
      "Failed to download (trying next):\n",
      "HTTP Error 403: Forbidden\n",
      "\n",
      "Downloading https://ossci-datasets.s3.amazonaws.com/mnist/train-labels-idx1-ubyte.gz\n",
      "Downloading https://ossci-datasets.s3.amazonaws.com/mnist/train-labels-idx1-ubyte.gz to D:\\ASU\\Fall 2024\\EEE549\\Final term project\\sml-final\\data\\MNIST\\raw\\train-labels-idx1-ubyte.gz\n"
     ]
    },
    {
     "name": "stderr",
     "output_type": "stream",
     "text": [
      "100%|██████████| 28881/28881 [00:00<00:00, 372033.80it/s]\n"
     ]
    },
    {
     "name": "stdout",
     "output_type": "stream",
     "text": [
      "Extracting D:\\ASU\\Fall 2024\\EEE549\\Final term project\\sml-final\\data\\MNIST\\raw\\train-labels-idx1-ubyte.gz to D:\\ASU\\Fall 2024\\EEE549\\Final term project\\sml-final\\data\\MNIST\\raw\n",
      "\n",
      "Downloading http://yann.lecun.com/exdb/mnist/t10k-images-idx3-ubyte.gz\n",
      "Failed to download (trying next):\n",
      "HTTP Error 403: Forbidden\n",
      "\n",
      "Downloading https://ossci-datasets.s3.amazonaws.com/mnist/t10k-images-idx3-ubyte.gz\n",
      "Downloading https://ossci-datasets.s3.amazonaws.com/mnist/t10k-images-idx3-ubyte.gz to D:\\ASU\\Fall 2024\\EEE549\\Final term project\\sml-final\\data\\MNIST\\raw\\t10k-images-idx3-ubyte.gz\n"
     ]
    },
    {
     "name": "stderr",
     "output_type": "stream",
     "text": [
      "100%|██████████| 1648877/1648877 [00:00<00:00, 4272547.46it/s]\n"
     ]
    },
    {
     "name": "stdout",
     "output_type": "stream",
     "text": [
      "Extracting D:\\ASU\\Fall 2024\\EEE549\\Final term project\\sml-final\\data\\MNIST\\raw\\t10k-images-idx3-ubyte.gz to D:\\ASU\\Fall 2024\\EEE549\\Final term project\\sml-final\\data\\MNIST\\raw\n",
      "\n",
      "Downloading http://yann.lecun.com/exdb/mnist/t10k-labels-idx1-ubyte.gz\n",
      "Failed to download (trying next):\n",
      "HTTP Error 403: Forbidden\n",
      "\n",
      "Downloading https://ossci-datasets.s3.amazonaws.com/mnist/t10k-labels-idx1-ubyte.gz\n",
      "Downloading https://ossci-datasets.s3.amazonaws.com/mnist/t10k-labels-idx1-ubyte.gz to D:\\ASU\\Fall 2024\\EEE549\\Final term project\\sml-final\\data\\MNIST\\raw\\t10k-labels-idx1-ubyte.gz\n"
     ]
    },
    {
     "name": "stderr",
     "output_type": "stream",
     "text": [
      "100%|██████████| 4542/4542 [00:00<00:00, 2274418.43it/s]"
     ]
    },
    {
     "name": "stdout",
     "output_type": "stream",
     "text": [
      "Extracting D:\\ASU\\Fall 2024\\EEE549\\Final term project\\sml-final\\data\\MNIST\\raw\\t10k-labels-idx1-ubyte.gz to D:\\ASU\\Fall 2024\\EEE549\\Final term project\\sml-final\\data\\MNIST\\raw\n",
      "\n"
     ]
    },
    {
     "name": "stderr",
     "output_type": "stream",
     "text": [
      "\n"
     ]
    }
   ],
   "source": [
    "# First, ensure that your transformations and data loading are correct.\n",
    "transform = transforms.Compose([\n",
    "    transforms.ToTensor(),\n",
    "    transforms.Normalize((0.5,), (0.5,))  # Adjust as necessary for the specific dataset\n",
    "])\n",
    "\n",
    "# Load the datasets\n",
    "trainset_mnist = torchvision.datasets.MNIST(root='D:\\ASU\\Fall 2024\\EEE549\\Final term project\\sml-final\\data', train=True,\n",
    "                                            download=True, transform=transform)\n",
    "testset_mnist = torchvision.datasets.MNIST(root='D:\\ASU\\Fall 2024\\EEE549\\Final term project\\sml-final\\data', train=False,\n",
    "                                           download=True, transform=transform)\n",
    "\n",
    "# Create the mask correctly\n",
    "mask_train_mnist = (trainset_mnist.targets == 8) | (trainset_mnist.targets == 3)\n",
    "mask_test_mnist = (testset_mnist.targets == 8) | (testset_mnist.targets == 3)\n",
    "\n",
    "# Apply the mask to the targets\n",
    "trainset_mnist.targets = trainset_mnist.targets[mask_train_mnist]\n",
    "testset_mnist.targets = testset_mnist.targets[mask_test_mnist]\n",
    "\n",
    "# Now apply the mask to the data\n",
    "trainset_mnist.data = trainset_mnist.data[mask_train_mnist]\n",
    "testset_mnist.data = testset_mnist.data[mask_test_mnist]\n"
   ]
  },
  {
   "cell_type": "code",
   "execution_count": 9,
   "metadata": {},
   "outputs": [
    {
     "name": "stdout",
     "output_type": "stream",
     "text": [
      "torch.Size([11982, 28, 28]) torch.Size([11982])\n",
      "torch.Size([1984, 28, 28]) torch.Size([1984])\n"
     ]
    }
   ],
   "source": [
    "print(trainset_mnist.data.size(), trainset_mnist.targets.size())\n",
    "print(testset_mnist.data.size(), testset_mnist.targets.size())"
   ]
  },
  {
   "cell_type": "markdown",
   "metadata": {},
   "source": [
    "## CIFAR10"
   ]
  },
  {
   "cell_type": "code",
   "execution_count": 10,
   "metadata": {},
   "outputs": [
    {
     "name": "stdout",
     "output_type": "stream",
     "text": [
      "Downloading https://www.cs.toronto.edu/~kriz/cifar-10-python.tar.gz to D:\\ASU\\Fall 2024\\EEE549\\Final term project\\sml-final\\data\\cifar-10-python.tar.gz\n"
     ]
    },
    {
     "name": "stderr",
     "output_type": "stream",
     "text": [
      "100%|██████████| 170498071/170498071 [00:06<00:00, 26059370.17it/s]\n"
     ]
    },
    {
     "name": "stdout",
     "output_type": "stream",
     "text": [
      "Extracting D:\\ASU\\Fall 2024\\EEE549\\Final term project\\sml-final\\data\\cifar-10-python.tar.gz to D:\\ASU\\Fall 2024\\EEE549\\Final term project\\sml-final\\data\n",
      "Files already downloaded and verified\n"
     ]
    }
   ],
   "source": [
    "transform_cifar = transforms.Compose([\n",
    "    transforms.ToTensor(),\n",
    "    transforms.Normalize((0.5, 0.5, 0.5), (0.5, 0.5, 0.5))  # normalize dataset for CIFAR10\n",
    "])\n",
    "\n",
    "trainset_cifar = torchvision.datasets.CIFAR10(root='D:\\ASU\\Fall 2024\\EEE549\\Final term project\\sml-final\\data', train=True,\n",
    "                                              download=True, transform=transform_cifar)\n",
    "testset_cifar = torchvision.datasets.CIFAR10(root='D:\\ASU\\Fall 2024\\EEE549\\Final term project\\sml-final\\data', train=False,\n",
    "                                             download=True, transform=transform_cifar)\n",
    "\n",
    "# Creating masks for CIFAR10 dataset based on class indices: Horse (7), Deer (4)\n",
    "mask_train_cifar = [(label == 7 or label == 4) for label in trainset_cifar.targets]\n",
    "mask_test_cifar = [(label == 7 or label == 4) for label in testset_cifar.targets]\n",
    "\n",
    "# Applying the masks to CIFAR10 targets\n",
    "trainset_cifar.targets = [trainset_cifar.targets[i] for i in range(len(trainset_cifar.targets)) if mask_train_cifar[i]]\n",
    "testset_cifar.targets = [testset_cifar.targets[i] for i in range(len(testset_cifar.targets)) if mask_test_cifar[i]]\n",
    "\n",
    "# Converting list of targets back to tensor for uniformity with processing\n",
    "trainset_cifar.targets = torch.tensor(trainset_cifar.targets)\n",
    "testset_cifar.targets = torch.tensor(testset_cifar.targets)\n",
    "\n",
    "# Applying the masks to CIFAR10 data\n",
    "trainset_cifar.data = trainset_cifar.data[mask_train_cifar]\n",
    "testset_cifar.data = testset_cifar.data[mask_test_cifar]\n"
   ]
  },
  {
   "cell_type": "code",
   "execution_count": 11,
   "metadata": {},
   "outputs": [
    {
     "name": "stdout",
     "output_type": "stream",
     "text": [
      "(10000, 32, 32, 3) torch.Size([10000])\n",
      "(2000, 32, 32, 3) torch.Size([2000])\n"
     ]
    }
   ],
   "source": [
    "print(trainset_cifar.data.shape, trainset_cifar.targets.shape)\n",
    "print(testset_cifar.data.shape, testset_cifar.targets.shape)"
   ]
  },
  {
   "cell_type": "code",
   "execution_count": 12,
   "metadata": {},
   "outputs": [],
   "source": [
    "# Update labels for CIFAR10 dataset: 7 -> 0, 4 -> 1\n",
    "trainset_cifar.targets = (trainset_cifar.targets == 4).long()  # 4 becomes 1 (Deer), else 0 (Horse)\n",
    "testset_cifar.targets = (testset_cifar.targets == 4).long()\n"
   ]
  },
  {
   "cell_type": "code",
   "execution_count": 13,
   "metadata": {},
   "outputs": [
    {
     "name": "stdout",
     "output_type": "stream",
     "text": [
      "tensor([1, 0, 1,  ..., 1, 0, 1])\n",
      "tensor([0, 0, 0,  ..., 0, 0, 0])\n"
     ]
    }
   ],
   "source": [
    "print(trainset_cifar.targets)\n",
    "print(testset_cifar.targets)"
   ]
  },
  {
   "cell_type": "markdown",
   "metadata": {},
   "source": [
    "## Save preprocessed data"
   ]
  },
  {
   "cell_type": "code",
   "execution_count": 14,
   "metadata": {},
   "outputs": [],
   "source": [
    "# Save preprocessed datasets\n",
    "torch.save((trainset_mnist.data, trainset_mnist.targets), 'D:\\ASU\\Fall 2024\\EEE549\\Final term project\\sml-final\\data\\preprocessed\\MNIST\\preprocessed_train_mnist.pt')\n",
    "torch.save((testset_mnist.data, testset_mnist.targets), 'D:\\ASU\\Fall 2024\\EEE549\\Final term project\\sml-final\\data\\preprocessed\\MNIST\\preprocessed_test_mnist.pt')\n",
    "\n",
    "torch.save((trainset_cifar.data, trainset_cifar.targets), 'D:\\ASU\\Fall 2024\\EEE549\\Final term project\\sml-final\\data\\preprocessed\\cifar10\\preprocessed_train_cifar.pt')\n",
    "torch.save((testset_cifar.data, testset_cifar.targets), 'D:\\ASU\\Fall 2024\\EEE549\\Final term project\\sml-final\\data\\preprocessed\\cifar10\\preprocessed_test_cifar.pt')\n"
   ]
  }
 ],
 "metadata": {
  "kernelspec": {
   "display_name": "statml",
   "language": "python",
   "name": "python3"
  },
  "language_info": {
   "codemirror_mode": {
    "name": "ipython",
    "version": 3
   },
   "file_extension": ".py",
   "mimetype": "text/x-python",
   "name": "python",
   "nbconvert_exporter": "python",
   "pygments_lexer": "ipython3",
   "version": "3.10.14"
  }
 },
 "nbformat": 4,
 "nbformat_minor": 2
}
