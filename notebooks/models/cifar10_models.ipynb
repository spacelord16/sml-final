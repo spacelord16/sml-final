{
 "cells": [
  {
   "cell_type": "code",
   "execution_count": 13,
   "metadata": {},
   "outputs": [],
   "source": [
    "import torch\n",
    "import numpy as np\n",
    "from sklearn.decomposition import PCA\n",
    "import torch.nn as nn\n",
    "import torch.optim as optim\n",
    "import torchvision\n",
    "import torchvision.transforms as transforms\n",
    "from torch.utils.data import TensorDataset, DataLoader\n",
    "from numpy.core.multiarray import _reconstruct\n",
    "import torch.serialization\n",
    "from sklearn.metrics import classification_report\n",
    "\n",
    "\n",
    "# Allowlist the _reconstruct function if you trust the source\n",
    "torch.serialization.add_safe_globals([_reconstruct])\n",
    "\n",
    "# Now attempt to load with weights_only=True\n",
    "train_data, train_labels = torch.load('D:\\\\ASU\\\\Fall 2024\\\\EEE549\\\\Final term project\\\\sml-final\\\\data\\\\preprocessed\\\\cifar10\\\\preprocessed_train_cifar.pt', weights_only=False)\n",
    "test_data, test_labels = torch.load('D:\\\\ASU\\\\Fall 2024\\\\EEE549\\\\Final term project\\\\sml-final\\\\data\\\\preprocessed\\\\cifar10\\\\preprocessed_test_cifar.pt', weights_only=False)\n"
   ]
  },
  {
   "cell_type": "code",
   "execution_count": 2,
   "metadata": {},
   "outputs": [
    {
     "name": "stdout",
     "output_type": "stream",
     "text": [
      "<class 'numpy.ndarray'>\n",
      "False\n"
     ]
    }
   ],
   "source": [
    "print(type(train_data))\n",
    "print(isinstance(train_data, torch.Tensor))"
   ]
  },
  {
   "cell_type": "code",
   "execution_count": 4,
   "metadata": {},
   "outputs": [
    {
     "name": "stdout",
     "output_type": "stream",
     "text": [
      "Train Data Type: <class 'numpy.ndarray'>\n",
      "Test Data Type: <class 'numpy.ndarray'>\n",
      "Data is not in tensor format.\n"
     ]
    }
   ],
   "source": [
    "# Check the data types\n",
    "print(f'Train Data Type: {type(train_data)}')\n",
    "print(f'Test Data Type: {type(test_data)}')\n",
    "\n",
    "# Assuming the data is loaded correctly and is indeed a Tensor\n",
    "if isinstance(train_data, torch.Tensor) and isinstance(test_data, torch.Tensor):\n",
    "    # Flatten the data and convert to numpy arrays for PCA\n",
    "    X_train = train_data.view(train_data.size(0), -1).numpy()\n",
    "    X_test = test_data.view(test_data.size(0), -1).numpy()\n",
    "else:\n",
    "    print(\"Data is not in tensor format.\")"
   ]
  },
  {
   "cell_type": "code",
   "execution_count": 5,
   "metadata": {},
   "outputs": [],
   "source": [
    "if not isinstance(train_data, torch.Tensor):\n",
    "    train_data = torch.tensor(train_data, dtype=torch.float)\n",
    "if not isinstance(test_data, torch.Tensor):\n",
    "    test_data = torch.tensor(test_data, dtype=torch.float)"
   ]
  },
  {
   "cell_type": "code",
   "execution_count": 6,
   "metadata": {},
   "outputs": [
    {
     "name": "stderr",
     "output_type": "stream",
     "text": [
      "C:\\Users\\Aditya\\AppData\\Local\\Temp\\ipykernel_16976\\1025937828.py:13: UserWarning: To copy construct from a tensor, it is recommended to use sourceTensor.clone().detach() or sourceTensor.clone().detach().requires_grad_(True), rather than torch.tensor(sourceTensor).\n",
      "  y_train = torch.tensor(train_labels, dtype=torch.long)\n",
      "C:\\Users\\Aditya\\AppData\\Local\\Temp\\ipykernel_16976\\1025937828.py:14: UserWarning: To copy construct from a tensor, it is recommended to use sourceTensor.clone().detach() or sourceTensor.clone().detach().requires_grad_(True), rather than torch.tensor(sourceTensor).\n",
      "  y_test = torch.tensor(test_labels, dtype=torch.long)\n"
     ]
    }
   ],
   "source": [
    "# Flatten the data and convert to numpy arrays for PCA\n",
    "X_train = train_data.view(train_data.size(0), -1).numpy()\n",
    "X_test = test_data.view(test_data.size(0), -1).numpy()\n",
    "\n",
    "# Apply PCA to reduce dimensions\n",
    "pca = PCA(n_components=150)\n",
    "X_train_pca = pca.fit_transform(X_train)\n",
    "X_test_pca = pca.transform(X_test)\n",
    "\n",
    "# Convert PCA data back to tensors for training\n",
    "X_train_pca = torch.tensor(X_train_pca, dtype=torch.float)\n",
    "X_test_pca = torch.tensor(X_test_pca, dtype=torch.float)\n",
    "y_train = torch.tensor(train_labels, dtype=torch.long)\n",
    "y_test = torch.tensor(test_labels, dtype=torch.long)"
   ]
  },
  {
   "cell_type": "markdown",
   "metadata": {},
   "source": [
    "## PCA"
   ]
  },
  {
   "cell_type": "code",
   "execution_count": 7,
   "metadata": {},
   "outputs": [
    {
     "name": "stderr",
     "output_type": "stream",
     "text": [
      "C:\\Users\\Aditya\\AppData\\Local\\Temp\\ipykernel_16976\\14249072.py:20: UserWarning: To copy construct from a tensor, it is recommended to use sourceTensor.clone().detach() or sourceTensor.clone().detach().requires_grad_(True), rather than torch.tensor(sourceTensor).\n",
      "  X_train_pca_tensor = torch.tensor(X_train_pca, dtype=torch.float)\n",
      "C:\\Users\\Aditya\\AppData\\Local\\Temp\\ipykernel_16976\\14249072.py:21: UserWarning: To copy construct from a tensor, it is recommended to use sourceTensor.clone().detach() or sourceTensor.clone().detach().requires_grad_(True), rather than torch.tensor(sourceTensor).\n",
      "  y_train_tensor = torch.tensor(train_labels, dtype=torch.long)\n",
      "C:\\Users\\Aditya\\AppData\\Local\\Temp\\ipykernel_16976\\14249072.py:22: UserWarning: To copy construct from a tensor, it is recommended to use sourceTensor.clone().detach() or sourceTensor.clone().detach().requires_grad_(True), rather than torch.tensor(sourceTensor).\n",
      "  X_test_pca_tensor = torch.tensor(X_test_pca, dtype=torch.float)\n",
      "C:\\Users\\Aditya\\AppData\\Local\\Temp\\ipykernel_16976\\14249072.py:23: UserWarning: To copy construct from a tensor, it is recommended to use sourceTensor.clone().detach() or sourceTensor.clone().detach().requires_grad_(True), rather than torch.tensor(sourceTensor).\n",
      "  y_test_tensor = torch.tensor(test_labels, dtype=torch.long)\n"
     ]
    },
    {
     "name": "stdout",
     "output_type": "stream",
     "text": [
      "Epoch 1/100, Train Loss: 16.8998, Test Loss: 4.7178, Train Acc: 75.09%, Test Acc: 69.90%\n",
      "Epoch 2/100, Train Loss: 3.0963, Test Loss: 3.1219, Train Acc: 78.13%, Test Acc: 71.60%\n",
      "Epoch 3/100, Train Loss: 1.7408, Test Loss: 2.4493, Train Acc: 78.29%, Test Acc: 70.15%\n",
      "Epoch 4/100, Train Loss: 1.0624, Test Loss: 1.7030, Train Acc: 84.16%, Test Acc: 73.00%\n",
      "Epoch 5/100, Train Loss: 0.7137, Test Loss: 1.3637, Train Acc: 84.77%, Test Acc: 73.25%\n",
      "Epoch 6/100, Train Loss: 0.5352, Test Loss: 1.2368, Train Acc: 82.73%, Test Acc: 73.30%\n",
      "Epoch 7/100, Train Loss: 0.5074, Test Loss: 1.0536, Train Acc: 87.59%, Test Acc: 74.55%\n",
      "Epoch 8/100, Train Loss: 0.3584, Test Loss: 1.0673, Train Acc: 85.29%, Test Acc: 72.15%\n",
      "Epoch 9/100, Train Loss: 0.3359, Test Loss: 0.9216, Train Acc: 89.78%, Test Acc: 75.20%\n",
      "Epoch 10/100, Train Loss: 0.3190, Test Loss: 0.9307, Train Acc: 90.10%, Test Acc: 74.25%\n",
      "Epoch 11/100, Train Loss: 0.3204, Test Loss: 0.9912, Train Acc: 87.90%, Test Acc: 75.00%\n",
      "Epoch 12/100, Train Loss: 0.2942, Test Loss: 0.9917, Train Acc: 90.13%, Test Acc: 75.15%\n",
      "Epoch 13/100, Train Loss: 0.3074, Test Loss: 0.9868, Train Acc: 91.46%, Test Acc: 75.70%\n",
      "Epoch 14/100, Train Loss: 0.2875, Test Loss: 1.0450, Train Acc: 91.49%, Test Acc: 75.65%\n",
      "Epoch 15/100, Train Loss: 0.2676, Test Loss: 1.0750, Train Acc: 90.39%, Test Acc: 74.75%\n",
      "Epoch 16/100, Train Loss: 0.2309, Test Loss: 1.1139, Train Acc: 89.61%, Test Acc: 74.40%\n",
      "Epoch 17/100, Train Loss: 0.2875, Test Loss: 1.1521, Train Acc: 91.87%, Test Acc: 75.35%\n",
      "Epoch 18/100, Train Loss: 0.2759, Test Loss: 1.0676, Train Acc: 93.59%, Test Acc: 75.60%\n",
      "Epoch 19/100, Train Loss: 0.2305, Test Loss: 1.0679, Train Acc: 93.67%, Test Acc: 75.80%\n",
      "Epoch 20/100, Train Loss: 0.2396, Test Loss: 1.1506, Train Acc: 92.97%, Test Acc: 75.65%\n",
      "Epoch 21/100, Train Loss: 0.2960, Test Loss: 1.1267, Train Acc: 93.69%, Test Acc: 76.55%\n",
      "Epoch 22/100, Train Loss: 0.2077, Test Loss: 1.2247, Train Acc: 91.60%, Test Acc: 75.90%\n",
      "Epoch 23/100, Train Loss: 0.1845, Test Loss: 1.1555, Train Acc: 92.83%, Test Acc: 76.40%\n",
      "Epoch 24/100, Train Loss: 0.2242, Test Loss: 1.2840, Train Acc: 94.04%, Test Acc: 76.00%\n",
      "Epoch 25/100, Train Loss: 0.2302, Test Loss: 1.5413, Train Acc: 88.93%, Test Acc: 75.55%\n",
      "Epoch 26/100, Train Loss: 0.2173, Test Loss: 1.1724, Train Acc: 93.71%, Test Acc: 77.20%\n",
      "Epoch 27/100, Train Loss: 0.1839, Test Loss: 1.3381, Train Acc: 94.64%, Test Acc: 76.45%\n",
      "Epoch 28/100, Train Loss: 0.1484, Test Loss: 1.3142, Train Acc: 93.79%, Test Acc: 77.25%\n",
      "Epoch 29/100, Train Loss: 0.2128, Test Loss: 1.3557, Train Acc: 94.74%, Test Acc: 76.25%\n",
      "Epoch 30/100, Train Loss: 0.2296, Test Loss: 1.4145, Train Acc: 95.11%, Test Acc: 77.30%\n",
      "Epoch 31/100, Train Loss: 0.2331, Test Loss: 1.4092, Train Acc: 94.23%, Test Acc: 78.70%\n",
      "Epoch 32/100, Train Loss: 0.1427, Test Loss: 1.4125, Train Acc: 97.00%, Test Acc: 76.00%\n",
      "Epoch 33/100, Train Loss: 0.1411, Test Loss: 1.4203, Train Acc: 96.04%, Test Acc: 77.75%\n",
      "Epoch 34/100, Train Loss: 0.1719, Test Loss: 1.5881, Train Acc: 96.15%, Test Acc: 75.45%\n",
      "Epoch 35/100, Train Loss: 0.1629, Test Loss: 1.5862, Train Acc: 96.55%, Test Acc: 77.10%\n",
      "Epoch 36/100, Train Loss: 0.1559, Test Loss: 1.5959, Train Acc: 95.17%, Test Acc: 76.80%\n",
      "Epoch 37/100, Train Loss: 0.2114, Test Loss: 1.7069, Train Acc: 95.94%, Test Acc: 77.65%\n",
      "Epoch 38/100, Train Loss: 0.1485, Test Loss: 1.5883, Train Acc: 96.17%, Test Acc: 77.55%\n",
      "Epoch 39/100, Train Loss: 0.1748, Test Loss: 1.6869, Train Acc: 96.05%, Test Acc: 77.80%\n",
      "Epoch 40/100, Train Loss: 0.1443, Test Loss: 1.7663, Train Acc: 96.25%, Test Acc: 78.25%\n",
      "Epoch 41/100, Train Loss: 0.2083, Test Loss: 1.9476, Train Acc: 94.77%, Test Acc: 77.10%\n",
      "Epoch 42/100, Train Loss: 0.2323, Test Loss: 1.8371, Train Acc: 96.61%, Test Acc: 78.35%\n",
      "Epoch 43/100, Train Loss: 0.1386, Test Loss: 1.7968, Train Acc: 97.53%, Test Acc: 77.60%\n",
      "Epoch 44/100, Train Loss: 0.1114, Test Loss: 2.0602, Train Acc: 95.07%, Test Acc: 77.25%\n",
      "Epoch 45/100, Train Loss: 0.1388, Test Loss: 2.0064, Train Acc: 97.23%, Test Acc: 78.10%\n",
      "Epoch 46/100, Train Loss: 0.1246, Test Loss: 2.0499, Train Acc: 96.75%, Test Acc: 78.20%\n",
      "Epoch 47/100, Train Loss: 0.1448, Test Loss: 2.1172, Train Acc: 95.86%, Test Acc: 77.70%\n",
      "Epoch 48/100, Train Loss: 0.1766, Test Loss: 2.2264, Train Acc: 96.25%, Test Acc: 78.15%\n",
      "Epoch 49/100, Train Loss: 0.1677, Test Loss: 2.2190, Train Acc: 97.59%, Test Acc: 78.20%\n",
      "Epoch 50/100, Train Loss: 0.1684, Test Loss: 2.4247, Train Acc: 95.32%, Test Acc: 78.30%\n",
      "Epoch 51/100, Train Loss: 0.1927, Test Loss: 2.2679, Train Acc: 97.74%, Test Acc: 78.05%\n",
      "Epoch 52/100, Train Loss: 0.1456, Test Loss: 2.4453, Train Acc: 97.39%, Test Acc: 77.80%\n",
      "Epoch 53/100, Train Loss: 0.0915, Test Loss: 2.5054, Train Acc: 97.55%, Test Acc: 77.25%\n",
      "Epoch 54/100, Train Loss: 0.0868, Test Loss: 2.4714, Train Acc: 97.48%, Test Acc: 77.35%\n",
      "Epoch 55/100, Train Loss: 0.0755, Test Loss: 2.5385, Train Acc: 98.28%, Test Acc: 78.10%\n",
      "Epoch 56/100, Train Loss: 0.1565, Test Loss: 2.7786, Train Acc: 96.52%, Test Acc: 78.00%\n",
      "Epoch 57/100, Train Loss: 0.1335, Test Loss: 2.7677, Train Acc: 96.85%, Test Acc: 77.45%\n",
      "Epoch 58/100, Train Loss: 0.1757, Test Loss: 2.9706, Train Acc: 96.61%, Test Acc: 77.80%\n",
      "Epoch 59/100, Train Loss: 0.1735, Test Loss: 2.6452, Train Acc: 98.07%, Test Acc: 78.30%\n",
      "Epoch 60/100, Train Loss: 0.1633, Test Loss: 2.9883, Train Acc: 97.23%, Test Acc: 77.20%\n",
      "Epoch 61/100, Train Loss: 0.1333, Test Loss: 3.1915, Train Acc: 96.61%, Test Acc: 76.65%\n",
      "Epoch 62/100, Train Loss: 0.1434, Test Loss: 3.1317, Train Acc: 96.94%, Test Acc: 77.75%\n",
      "Epoch 63/100, Train Loss: 0.1345, Test Loss: 2.8940, Train Acc: 98.19%, Test Acc: 79.20%\n",
      "Epoch 64/100, Train Loss: 0.1531, Test Loss: 3.1108, Train Acc: 97.46%, Test Acc: 77.75%\n",
      "Epoch 65/100, Train Loss: 0.1130, Test Loss: 2.9874, Train Acc: 98.08%, Test Acc: 77.95%\n",
      "Epoch 66/100, Train Loss: 0.0769, Test Loss: 3.0931, Train Acc: 98.63%, Test Acc: 77.95%\n",
      "Epoch 67/100, Train Loss: 0.1104, Test Loss: 3.2415, Train Acc: 97.45%, Test Acc: 78.05%\n",
      "Epoch 68/100, Train Loss: 0.1359, Test Loss: 3.5098, Train Acc: 96.58%, Test Acc: 77.45%\n",
      "Epoch 69/100, Train Loss: 0.2032, Test Loss: 3.5079, Train Acc: 97.93%, Test Acc: 77.55%\n",
      "Epoch 70/100, Train Loss: 0.1347, Test Loss: 3.5146, Train Acc: 98.19%, Test Acc: 78.10%\n",
      "Epoch 71/100, Train Loss: 0.1355, Test Loss: 3.6899, Train Acc: 96.68%, Test Acc: 78.15%\n",
      "Epoch 72/100, Train Loss: 0.1641, Test Loss: 3.8964, Train Acc: 97.52%, Test Acc: 77.25%\n",
      "Epoch 73/100, Train Loss: 0.1066, Test Loss: 3.7744, Train Acc: 96.87%, Test Acc: 77.95%\n",
      "Epoch 74/100, Train Loss: 0.0857, Test Loss: 3.7441, Train Acc: 98.66%, Test Acc: 79.35%\n",
      "Epoch 75/100, Train Loss: 0.0757, Test Loss: 3.9223, Train Acc: 98.28%, Test Acc: 77.55%\n",
      "Epoch 76/100, Train Loss: 0.0923, Test Loss: 3.8697, Train Acc: 99.01%, Test Acc: 79.00%\n",
      "Epoch 77/100, Train Loss: 0.1516, Test Loss: 4.0655, Train Acc: 97.62%, Test Acc: 77.65%\n",
      "Epoch 78/100, Train Loss: 0.1710, Test Loss: 4.1398, Train Acc: 97.85%, Test Acc: 77.95%\n",
      "Epoch 79/100, Train Loss: 0.2073, Test Loss: 4.4118, Train Acc: 97.55%, Test Acc: 78.20%\n",
      "Epoch 80/100, Train Loss: 0.1310, Test Loss: 4.1994, Train Acc: 98.43%, Test Acc: 78.75%\n",
      "Epoch 81/100, Train Loss: 0.1139, Test Loss: 4.2706, Train Acc: 98.49%, Test Acc: 78.25%\n",
      "Epoch 82/100, Train Loss: 0.0920, Test Loss: 4.2980, Train Acc: 98.55%, Test Acc: 78.95%\n",
      "Epoch 83/100, Train Loss: 0.0876, Test Loss: 4.3564, Train Acc: 98.90%, Test Acc: 78.40%\n",
      "Epoch 84/100, Train Loss: 0.0950, Test Loss: 4.6226, Train Acc: 98.17%, Test Acc: 76.95%\n",
      "Epoch 85/100, Train Loss: 0.1282, Test Loss: 4.3486, Train Acc: 98.86%, Test Acc: 78.90%\n",
      "Epoch 86/100, Train Loss: 0.2900, Test Loss: 4.4065, Train Acc: 98.15%, Test Acc: 78.70%\n",
      "Epoch 87/100, Train Loss: 0.0967, Test Loss: 4.4536, Train Acc: 99.03%, Test Acc: 79.10%\n",
      "Epoch 88/100, Train Loss: 0.1302, Test Loss: 4.6343, Train Acc: 98.43%, Test Acc: 77.60%\n",
      "Epoch 89/100, Train Loss: 0.1076, Test Loss: 4.8475, Train Acc: 98.28%, Test Acc: 77.75%\n",
      "Epoch 90/100, Train Loss: 0.0988, Test Loss: 4.7942, Train Acc: 98.62%, Test Acc: 78.50%\n",
      "Epoch 91/100, Train Loss: 0.0865, Test Loss: 5.0223, Train Acc: 98.98%, Test Acc: 78.50%\n",
      "Epoch 92/100, Train Loss: 0.0976, Test Loss: 5.0617, Train Acc: 98.24%, Test Acc: 78.05%\n",
      "Epoch 93/100, Train Loss: 0.1238, Test Loss: 5.0119, Train Acc: 97.93%, Test Acc: 78.55%\n",
      "Epoch 94/100, Train Loss: 0.2526, Test Loss: 5.3107, Train Acc: 98.18%, Test Acc: 78.30%\n",
      "Epoch 95/100, Train Loss: 0.1774, Test Loss: 5.2900, Train Acc: 98.13%, Test Acc: 77.90%\n",
      "Epoch 96/100, Train Loss: 0.1215, Test Loss: 5.3797, Train Acc: 98.39%, Test Acc: 77.35%\n",
      "Epoch 97/100, Train Loss: 0.0892, Test Loss: 5.4745, Train Acc: 98.69%, Test Acc: 79.05%\n",
      "Epoch 98/100, Train Loss: 0.0702, Test Loss: 5.3257, Train Acc: 98.88%, Test Acc: 79.15%\n",
      "Epoch 99/100, Train Loss: 0.0798, Test Loss: 5.4694, Train Acc: 98.08%, Test Acc: 79.50%\n",
      "Epoch 100/100, Train Loss: 0.0878, Test Loss: 5.7049, Train Acc: 98.54%, Test Acc: 78.15%\n"
     ]
    }
   ],
   "source": [
    "class SimpleNN(nn.Module):\n",
    "    def __init__(self):\n",
    "        super(SimpleNN, self).__init__()\n",
    "        self.fc1 = nn.Linear(150, 64)  # 150 features from PCA\n",
    "        self.fc2 = nn.Linear(64, 10)   # Output 10 classes\n",
    "\n",
    "    def forward(self, x):\n",
    "        x = torch.relu(self.fc1(x))\n",
    "        x = self.fc2(x)\n",
    "        return x\n",
    "\n",
    "# Create the neural network\n",
    "model = SimpleNN()\n",
    "\n",
    "# Loss and optimizer\n",
    "criterion = nn.CrossEntropyLoss()\n",
    "optimizer = optim.Adam(model.parameters(), lr=0.001)\n",
    "\n",
    "# Data conversion and DataLoader setup\n",
    "X_train_pca_tensor = torch.tensor(X_train_pca, dtype=torch.float)\n",
    "y_train_tensor = torch.tensor(train_labels, dtype=torch.long)\n",
    "X_test_pca_tensor = torch.tensor(X_test_pca, dtype=torch.float)\n",
    "y_test_tensor = torch.tensor(test_labels, dtype=torch.long)\n",
    "\n",
    "train_dataset = TensorDataset(X_train_pca_tensor, y_train_tensor)\n",
    "test_dataset = TensorDataset(X_test_pca_tensor, y_test_tensor)\n",
    "trainloader = DataLoader(train_dataset, batch_size=64, shuffle=True)\n",
    "testloader = DataLoader(test_dataset, batch_size=64, shuffle=False)\n",
    "\n",
    "# Function to calculate accuracy\n",
    "def calculate_accuracy(model, data_loader):\n",
    "    model.eval()\n",
    "    correct = 0\n",
    "    total = 0\n",
    "    with torch.no_grad():\n",
    "        for data in data_loader:\n",
    "            images, labels = data\n",
    "            outputs = model(images)\n",
    "            _, predicted = torch.max(outputs.data, 1)\n",
    "            total += labels.size(0)\n",
    "            correct += (predicted == labels).sum().item()\n",
    "    return 100 * correct / total\n",
    "\n",
    "# Train the model\n",
    "num_epochs = 100\n",
    "for epoch in range(num_epochs):\n",
    "    model.train()\n",
    "    running_loss = 0.0\n",
    "    for i, data in enumerate(trainloader, 0):\n",
    "        inputs, labels = data\n",
    "        optimizer.zero_grad()\n",
    "        outputs = model(inputs)\n",
    "        loss = criterion(outputs, labels)\n",
    "        loss.backward()\n",
    "        optimizer.step()\n",
    "        running_loss += loss.item()\n",
    "    \n",
    "    train_acc = calculate_accuracy(model, trainloader)\n",
    "    test_acc = calculate_accuracy(model, testloader)\n",
    "    train_error = running_loss / len(trainloader)\n",
    "    test_error = criterion(model(X_test_pca_tensor), y_test_tensor).item()\n",
    "\n",
    "    print(f'Epoch {epoch + 1}/{num_epochs}, Train Loss: {train_error:.4f}, Test Loss: {test_error:.4f}, Train Acc: {train_acc:.2f}%, Test Acc: {test_acc:.2f}%')\n"
   ]
  },
  {
   "cell_type": "markdown",
   "metadata": {},
   "source": [
    "## CNN"
   ]
  },
  {
   "cell_type": "code",
   "execution_count": 8,
   "metadata": {},
   "outputs": [
    {
     "name": "stderr",
     "output_type": "stream",
     "text": [
      "C:\\Users\\Aditya\\AppData\\Local\\Temp\\ipykernel_16976\\3918409937.py:5: UserWarning: To copy construct from a tensor, it is recommended to use sourceTensor.clone().detach() or sourceTensor.clone().detach().requires_grad_(True), rather than torch.tensor(sourceTensor).\n",
      "  train_dataset = TensorDataset(torch.tensor(train_data, dtype=torch.float), torch.tensor(train_labels, dtype=torch.long))\n",
      "C:\\Users\\Aditya\\AppData\\Local\\Temp\\ipykernel_16976\\3918409937.py:6: UserWarning: To copy construct from a tensor, it is recommended to use sourceTensor.clone().detach() or sourceTensor.clone().detach().requires_grad_(True), rather than torch.tensor(sourceTensor).\n",
      "  test_dataset = TensorDataset(torch.tensor(test_data, dtype=torch.float), torch.tensor(test_labels, dtype=torch.long))\n"
     ]
    }
   ],
   "source": [
    "train_data = train_data.reshape((-1, 3, 32, 32))\n",
    "test_data = test_data.reshape((-1, 3, 32, 32))\n",
    "\n",
    "# Create TensorDatasets\n",
    "train_dataset = TensorDataset(torch.tensor(train_data, dtype=torch.float), torch.tensor(train_labels, dtype=torch.long))\n",
    "test_dataset = TensorDataset(torch.tensor(test_data, dtype=torch.float), torch.tensor(test_labels, dtype=torch.long))\n",
    "\n",
    "# Create DataLoaders\n",
    "trainloader = DataLoader(train_dataset, batch_size=64, shuffle=True)\n",
    "testloader = DataLoader(test_dataset, batch_size=64, shuffle=False)"
   ]
  },
  {
   "cell_type": "code",
   "execution_count": null,
   "metadata": {},
   "outputs": [
    {
     "name": "stderr",
     "output_type": "stream",
     "text": [
      "C:\\Users\\Aditya\\AppData\\Local\\Temp\\ipykernel_16976\\501801529.py:2: UserWarning: To copy construct from a tensor, it is recommended to use sourceTensor.clone().detach() or sourceTensor.clone().detach().requires_grad_(True), rather than torch.tensor(sourceTensor).\n",
      "  train_dataset = TensorDataset(torch.tensor(train_data.reshape(-1, 3, 32, 32), dtype=torch.float), torch.tensor(train_labels, dtype=torch.long))\n",
      "C:\\Users\\Aditya\\AppData\\Local\\Temp\\ipykernel_16976\\501801529.py:3: UserWarning: To copy construct from a tensor, it is recommended to use sourceTensor.clone().detach() or sourceTensor.clone().detach().requires_grad_(True), rather than torch.tensor(sourceTensor).\n",
      "  test_dataset = TensorDataset(torch.tensor(test_data.reshape(-1, 3, 32, 32), dtype=torch.float), torch.tensor(test_labels, dtype=torch.long))\n"
     ]
    },
    {
     "name": "stdout",
     "output_type": "stream",
     "text": [
      "Epoch 1: Loss=1.0295965341246052, Train Acc=62.18%\n",
      "Epoch 2: Loss=0.5443131652227633, Train Acc=72.56%\n",
      "Epoch 3: Loss=0.49813217835821166, Train Acc=75.95%\n",
      "Epoch 4: Loss=0.47547678981617, Train Acc=77.77%\n",
      "Epoch 5: Loss=0.45086135131538296, Train Acc=78.86%\n",
      "Epoch 6: Loss=0.4322556061729504, Train Acc=79.57%\n",
      "Epoch 7: Loss=0.40970430062834623, Train Acc=81.0%\n",
      "Epoch 8: Loss=0.3994718106688967, Train Acc=81.41%\n",
      "Epoch 9: Loss=0.39146839775097597, Train Acc=82.27%\n",
      "Epoch 10: Loss=0.3728148992274218, Train Acc=83.36%\n"
     ]
    }
   ],
   "source": [
    "# Assuming the original CIFAR-10 data has been loaded into train_data and test_data with proper image shapes\n",
    "train_dataset = TensorDataset(torch.tensor(train_data.reshape(-1, 3, 32, 32), dtype=torch.float), torch.tensor(train_labels, dtype=torch.long))\n",
    "test_dataset = TensorDataset(torch.tensor(test_data.reshape(-1, 3, 32, 32), dtype=torch.float), torch.tensor(test_labels, dtype=torch.long))\n",
    "\n",
    "trainloader = DataLoader(train_dataset, batch_size=64, shuffle=True)\n",
    "testloader = DataLoader(test_dataset, batch_size=64, shuffle=False)\n",
    "\n",
    "\n",
    "class CNN(nn.Module):\n",
    "    def __init__(self):\n",
    "        super(CNN, self).__init__()\n",
    "        self.conv1 = nn.Conv2d(3, 16, kernel_size=5, stride=1, padding=2)\n",
    "        self.pool = nn.MaxPool2d(2, 2)\n",
    "        self.conv2 = nn.Conv2d(16, 32, kernel_size=5, stride=1, padding=2)\n",
    "        self.fc1 = nn.Linear(32 * 8 * 8, 120)\n",
    "        self.fc2 = nn.Linear(120, 10)\n",
    "\n",
    "    def forward(self, x):\n",
    "        x = self.pool(torch.relu(self.conv1(x)))\n",
    "        x = self.pool(torch.relu(self.conv2(x)))\n",
    "        x = x.view(-1, 32 * 8 * 8)\n",
    "        x = torch.relu(self.fc1(x))\n",
    "        x = self.fc2(x)\n",
    "        return x\n",
    "\n",
    "# Initialize CNN, loss function, and optimizer\n",
    "cnn = CNN()\n",
    "criterion_cnn = nn.CrossEntropyLoss()\n",
    "optimizer_cnn = optim.Adam(cnn.parameters(), lr=0.001)\n",
    "\n",
    "# Function to calculate accuracy\n",
    "def calculate_accuracy(model, data_loader):\n",
    "    model.eval()  # Set the model to evaluation mode\n",
    "    correct = 0\n",
    "    total = 0\n",
    "    with torch.no_grad():\n",
    "        for data in data_loader:\n",
    "            images, labels = data\n",
    "            outputs = model(images)\n",
    "            _, predicted = torch.max(outputs.data, 1)\n",
    "            total += labels.size(0)\n",
    "            correct += (predicted == labels).sum().item()\n",
    "    model.train()  # Switch back to training mode\n",
    "    return 100 * correct / total\n",
    "\n",
    "# Assuming trainloader and testloader are defined\n",
    "# Training loop for CNN\n",
    "# for epoch in range(10):\n",
    "#     cnn.train()\n",
    "#     running_loss = 0.0\n",
    "#     for i, (inputs, labels) in enumerate(trainloader):\n",
    "#         optimizer_cnn.zero_grad()\n",
    "#         outputs = cnn(inputs)\n",
    "#         loss = criterion_cnn(outputs, labels)\n",
    "#         loss.backward()\n",
    "#         optimizer_cnn.step()\n",
    "#         running_loss += loss.item()\n",
    "\n",
    "#     train_acc = calculate_accuracy(cnn, trainloader)\n",
    "#     test_acc = calculate_accuracy(cnn, testloader)\n",
    "#     train_loss = running_loss / len(trainloader)\n",
    "#     test_loss = 0.0\n",
    "#     for data in testloader:\n",
    "#         images, labels = data\n",
    "#         outputs = cnn(images)\n",
    "#         loss = criterion_cnn(outputs, labels)\n",
    "#         test_loss += loss.item()\n",
    "#     test_loss /= len(testloader)\n",
    "\n",
    "#     print(f'Epoch {epoch+1}, Train Loss: {train_loss:.4f}, Test Loss: {test_loss:.4f}, Train Acc: {train_acc:.2f}%, Test Acc: {test_acc:.2f}%')\n",
    "\n",
    "# Ensure you are using the right DataLoader that provides image data in correct shape\n",
    "# for epoch in range(10):\n",
    "#     cnn.train()  # Set model to training mode\n",
    "#     total_loss = 0\n",
    "#     total = 0\n",
    "#     correct = 0\n",
    "#     for i, (inputs, labels) in enumerate(trainloader):\n",
    "#         outputs = cnn(inputs)\n",
    "#         loss = criterion_cnn(outputs, labels)\n",
    "#         optimizer_cnn.zero_grad()\n",
    "#         loss.backward()\n",
    "#         optimizer_cnn.step()\n",
    "#         total_loss += loss.item()\n",
    "\n",
    "#         _, predicted = torch.max(outputs.data, 1)\n",
    "#         total += labels.size(0)\n",
    "#         correct += (predicted == labels).sum().item()\n",
    "\n",
    "#     train_acc = 100 * correct / total\n",
    "#     print(f'Epoch {epoch+1}: Loss={total_loss/len(trainloader)}, Train Acc={train_acc}%')\n"
   ]
  },
  {
   "cell_type": "code",
   "execution_count": 19,
   "metadata": {},
   "outputs": [
    {
     "name": "stdout",
     "output_type": "stream",
     "text": [
      "Epoch 1: Train Loss: 0.1708, Train Accuracy: 93.40%, Validation Loss: 0.7100, Validation Accuracy: 77.15%\n",
      "Epoch 2: Train Loss: 0.1679, Train Accuracy: 93.17%, Validation Loss: 0.7208, Validation Accuracy: 77.90%\n",
      "Epoch 3: Train Loss: 0.1242, Train Accuracy: 95.22%, Validation Loss: 0.7757, Validation Accuracy: 77.35%\n",
      "Epoch 4: Train Loss: 0.1173, Train Accuracy: 95.40%, Validation Loss: 0.8883, Validation Accuracy: 77.90%\n",
      "Epoch 5: Train Loss: 0.1086, Train Accuracy: 95.84%, Validation Loss: 0.9222, Validation Accuracy: 77.50%\n",
      "Epoch 6: Train Loss: 0.1312, Train Accuracy: 94.88%, Validation Loss: 0.9019, Validation Accuracy: 77.05%\n",
      "Epoch 7: Train Loss: 0.0983, Train Accuracy: 96.28%, Validation Loss: 0.9858, Validation Accuracy: 76.40%\n",
      "Epoch 8: Train Loss: 0.1008, Train Accuracy: 96.05%, Validation Loss: 0.9078, Validation Accuracy: 78.00%\n",
      "Epoch 9: Train Loss: 0.0814, Train Accuracy: 97.01%, Validation Loss: 0.9198, Validation Accuracy: 77.95%\n",
      "Epoch 10: Train Loss: 0.0521, Train Accuracy: 98.15%, Validation Loss: 1.0738, Validation Accuracy: 77.20%\n"
     ]
    }
   ],
   "source": [
    "train_losses = []\n",
    "val_losses = []\n",
    "train_accuracies = []\n",
    "val_accuracies = []\n",
    "\n",
    "for epoch in range(10):\n",
    "    cnn.train()\n",
    "    total_train_loss = 0\n",
    "    correct_train = 0\n",
    "    total_train = 0\n",
    "    \n",
    "    for inputs, labels in trainloader:\n",
    "        optimizer_cnn.zero_grad()\n",
    "        outputs = cnn(inputs)\n",
    "        loss = criterion_cnn(outputs, labels)\n",
    "        loss.backward()\n",
    "        optimizer_cnn.step()\n",
    "        \n",
    "        total_train_loss += loss.item()\n",
    "        _, predicted = torch.max(outputs.data, 1)\n",
    "        total_train += labels.size(0)\n",
    "        correct_train += (predicted == labels).sum().item()\n",
    "\n",
    "    train_accuracy = 100 * correct_train / total_train\n",
    "    average_train_loss = total_train_loss / len(trainloader)\n",
    "\n",
    "    cnn.eval()\n",
    "    total_val_loss = 0\n",
    "    correct_val = 0\n",
    "    total_val = 0\n",
    "    with torch.no_grad():\n",
    "        for inputs, labels in testloader:\n",
    "            outputs = cnn(inputs)\n",
    "            loss = criterion_cnn(outputs, labels)\n",
    "            total_val_loss += loss.item()\n",
    "            _, predicted = torch.max(outputs.data, 1)\n",
    "            total_val += labels.size(0)\n",
    "            correct_val += (predicted == labels).sum().item()\n",
    "\n",
    "    val_accuracy = 100 * correct_val / total_val\n",
    "    average_val_loss = total_val_loss / len(testloader)\n",
    "\n",
    "    # Append metrics to lists\n",
    "    train_losses.append(average_train_loss)\n",
    "    val_losses.append(average_val_loss)\n",
    "    train_accuracies.append(train_accuracy)\n",
    "    val_accuracies.append(val_accuracy)\n",
    "\n",
    "    print(f'Epoch {epoch+1}: Train Loss: {average_train_loss:.4f}, Train Accuracy: {train_accuracy:.2f}%, Validation Loss: {average_val_loss:.4f}, Validation Accuracy: {val_accuracy:.2f}%')\n"
   ]
  },
  {
   "cell_type": "code",
   "execution_count": 16,
   "metadata": {},
   "outputs": [
    {
     "name": "stdout",
     "output_type": "stream",
     "text": [
      "Shape of CNN inputs: torch.Size([64, 3, 32, 32])\n"
     ]
    }
   ],
   "source": [
    "for inputs, labels in trainloader:\n",
    "    print(\"Shape of CNN inputs:\", inputs.shape)  # Should output [64, 3, 32, 32] or similar\n",
    "    break "
   ]
  },
  {
   "cell_type": "code",
   "execution_count": 20,
   "metadata": {},
   "outputs": [
    {
     "data": {
      "image/png": "[encoded data removed]",
      "text/plain": [
       "<Figure size 1200x500 with 2 Axes>"
      ]
     },
     "metadata": {},
     "output_type": "display_data"
    }
   ],
   "source": [
    "import matplotlib.pyplot as plt\n",
    "\n",
    "epochs = range(1, 11)  # Adjust depending on the number of epochs\n",
    "\n",
    "plt.figure(figsize=(12, 5))\n",
    "\n",
    "# Plot for Loss\n",
    "plt.subplot(1, 2, 1)\n",
    "plt.plot(epochs, train_losses, label='Train Loss')\n",
    "plt.plot(epochs, val_losses, label='Validation Loss')\n",
    "plt.title('Loss over Epochs')\n",
    "plt.xlabel('Epoch')\n",
    "plt.ylabel('Loss')\n",
    "plt.legend()\n",
    "\n",
    "# Plot for Accuracy\n",
    "plt.subplot(1, 2, 2)\n",
    "plt.plot(epochs, train_accuracies, label='Train Accuracy')\n",
    "plt.plot(epochs, val_accuracies, label='Validation Accuracy')\n",
    "plt.title('Accuracy over Epochs')\n",
    "plt.xlabel('Epoch')\n",
    "plt.ylabel('Accuracy')\n",
    "plt.legend()\n",
    "\n",
    "plt.tight_layout()\n",
    "plt.show()\n"
   ]
  },
  {
   "cell_type": "markdown",
   "metadata": {},
   "source": [
    "## Classification report"
   ]
  },
  {
   "cell_type": "code",
   "execution_count": 11,
   "metadata": {},
   "outputs": [
    {
     "name": "stderr",
     "output_type": "stream",
     "text": [
      "C:\\Users\\Aditya\\AppData\\Local\\Temp\\ipykernel_16976\\4182289895.py:2: UserWarning: To copy construct from a tensor, it is recommended to use sourceTensor.clone().detach() or sourceTensor.clone().detach().requires_grad_(True), rather than torch.tensor(sourceTensor).\n",
      "  X_train_pca_tensor = torch.tensor(X_train_pca, dtype=torch.float32)\n",
      "C:\\Users\\Aditya\\AppData\\Local\\Temp\\ipykernel_16976\\4182289895.py:3: UserWarning: To copy construct from a tensor, it is recommended to use sourceTensor.clone().detach() or sourceTensor.clone().detach().requires_grad_(True), rather than torch.tensor(sourceTensor).\n",
      "  X_test_pca_tensor = torch.tensor(X_test_pca, dtype=torch.float32)\n"
     ]
    }
   ],
   "source": [
    "# Ensure PCA data is converted to tensors properly\n",
    "X_train_pca_tensor = torch.tensor(X_train_pca, dtype=torch.float32)\n",
    "X_test_pca_tensor = torch.tensor(X_test_pca, dtype=torch.float32)\n"
   ]
  },
  {
   "cell_type": "code",
   "execution_count": 12,
   "metadata": {},
   "outputs": [
    {
     "name": "stderr",
     "output_type": "stream",
     "text": [
      "C:\\Users\\Aditya\\AppData\\Local\\Temp\\ipykernel_16976\\599410454.py:2: UserWarning: To copy construct from a tensor, it is recommended to use sourceTensor.clone().detach() or sourceTensor.clone().detach().requires_grad_(True), rather than torch.tensor(sourceTensor).\n",
      "  train_dataset = TensorDataset(X_train_pca_tensor, torch.tensor(train_labels, dtype=torch.long))\n",
      "C:\\Users\\Aditya\\AppData\\Local\\Temp\\ipykernel_16976\\599410454.py:3: UserWarning: To copy construct from a tensor, it is recommended to use sourceTensor.clone().detach() or sourceTensor.clone().detach().requires_grad_(True), rather than torch.tensor(sourceTensor).\n",
      "  test_dataset = TensorDataset(X_test_pca_tensor, torch.tensor(test_labels, dtype=torch.long))\n"
     ]
    }
   ],
   "source": [
    "# Set up TensorDatasets and DataLoaders for PCA model\n",
    "train_dataset = TensorDataset(X_train_pca_tensor, torch.tensor(train_labels, dtype=torch.long))\n",
    "test_dataset = TensorDataset(X_test_pca_tensor, torch.tensor(test_labels, dtype=torch.long))\n",
    "\n",
    "trainloader = DataLoader(train_dataset, batch_size=64, shuffle=True)\n",
    "testloader = DataLoader(test_dataset, batch_size=64, shuffle=False)"
   ]
  },
  {
   "cell_type": "code",
   "execution_count": 14,
   "metadata": {},
   "outputs": [
    {
     "name": "stdout",
     "output_type": "stream",
     "text": [
      "Input shape: torch.Size([64, 150])\n",
      "Input shape: torch.Size([64, 150])\n",
      "Input shape: torch.Size([64, 150])\n",
      "Input shape: torch.Size([64, 150])\n",
      "Input shape: torch.Size([64, 150])\n",
      "Input shape: torch.Size([64, 150])\n",
      "Input shape: torch.Size([64, 150])\n",
      "Input shape: torch.Size([64, 150])\n",
      "Input shape: torch.Size([64, 150])\n",
      "Input shape: torch.Size([64, 150])\n",
      "Input shape: torch.Size([64, 150])\n",
      "Input shape: torch.Size([64, 150])\n",
      "Input shape: torch.Size([64, 150])\n",
      "Input shape: torch.Size([64, 150])\n",
      "Input shape: torch.Size([64, 150])\n",
      "Input shape: torch.Size([64, 150])\n",
      "Input shape: torch.Size([64, 150])\n",
      "Input shape: torch.Size([64, 150])\n",
      "Input shape: torch.Size([64, 150])\n",
      "Input shape: torch.Size([64, 150])\n",
      "Input shape: torch.Size([64, 150])\n",
      "Input shape: torch.Size([64, 150])\n",
      "Input shape: torch.Size([64, 150])\n",
      "Input shape: torch.Size([64, 150])\n",
      "Input shape: torch.Size([64, 150])\n",
      "Input shape: torch.Size([64, 150])\n",
      "Input shape: torch.Size([64, 150])\n",
      "Input shape: torch.Size([64, 150])\n",
      "Input shape: torch.Size([64, 150])\n",
      "Input shape: torch.Size([64, 150])\n",
      "Input shape: torch.Size([64, 150])\n",
      "Input shape: torch.Size([16, 150])\n",
      "Input shape: torch.Size([64, 150])\n"
     ]
    },
    {
     "ename": "RuntimeError",
     "evalue": "Expected 3D (unbatched) or 4D (batched) input to conv2d, but got input of size: [64, 150]",
     "output_type": "error",
     "traceback": [
      "\u001b[1;31m---------------------------------------------------------------------------\u001b[0m",
      "\u001b[1;31mRuntimeError\u001b[0m                              Traceback (most recent call last)",
      "Cell \u001b[1;32mIn[14], line 18\u001b[0m\n\u001b[0;32m     16\u001b[0m pca_preds, pca_labels \u001b[38;5;241m=\u001b[39m get_predictions(model, testloader)\n\u001b[0;32m     17\u001b[0m \u001b[38;5;66;03m# Get predictions from CNN model\u001b[39;00m\n\u001b[1;32m---> 18\u001b[0m cnn_preds, cnn_labels \u001b[38;5;241m=\u001b[39m \u001b[43mget_predictions\u001b[49m\u001b[43m(\u001b[49m\u001b[43mcnn\u001b[49m\u001b[43m,\u001b[49m\u001b[43m \u001b[49m\u001b[43mtestloader\u001b[49m\u001b[43m)\u001b[49m\n\u001b[0;32m     20\u001b[0m \u001b[38;5;66;03m# Print classification report\u001b[39;00m\n\u001b[0;32m     21\u001b[0m \u001b[38;5;28mprint\u001b[39m(\u001b[38;5;124m\"\u001b[39m\u001b[38;5;124mClassification Report for PCA Model:\u001b[39m\u001b[38;5;124m\"\u001b[39m)\n",
      "Cell \u001b[1;32mIn[14], line 8\u001b[0m, in \u001b[0;36mget_predictions\u001b[1;34m(model, data_loader)\u001b[0m\n\u001b[0;32m      6\u001b[0m \u001b[38;5;28;01mfor\u001b[39;00m inputs, labels \u001b[38;5;129;01min\u001b[39;00m data_loader:\n\u001b[0;32m      7\u001b[0m     \u001b[38;5;28mprint\u001b[39m(\u001b[38;5;124m\"\u001b[39m\u001b[38;5;124mInput shape:\u001b[39m\u001b[38;5;124m\"\u001b[39m, inputs\u001b[38;5;241m.\u001b[39mshape)  \u001b[38;5;66;03m# Debug: Check input shape\u001b[39;00m\n\u001b[1;32m----> 8\u001b[0m     outputs \u001b[38;5;241m=\u001b[39m \u001b[43mmodel\u001b[49m\u001b[43m(\u001b[49m\u001b[43minputs\u001b[49m\u001b[43m)\u001b[49m\n\u001b[0;32m      9\u001b[0m     _, predicted \u001b[38;5;241m=\u001b[39m torch\u001b[38;5;241m.\u001b[39mmax(outputs, \u001b[38;5;241m1\u001b[39m)\n\u001b[0;32m     10\u001b[0m     all_preds\u001b[38;5;241m.\u001b[39mextend(predicted\u001b[38;5;241m.\u001b[39mnumpy())\n",
      "File \u001b[1;32md:\\ASU\\Fall 2024\\EEE549\\Notebooks\\HW0\\.conda\\Lib\\site-packages\\torch\\nn\\modules\\module.py:1736\u001b[0m, in \u001b[0;36mModule._wrapped_call_impl\u001b[1;34m(self, *args, **kwargs)\u001b[0m\n\u001b[0;32m   1734\u001b[0m     \u001b[38;5;28;01mreturn\u001b[39;00m \u001b[38;5;28mself\u001b[39m\u001b[38;5;241m.\u001b[39m_compiled_call_impl(\u001b[38;5;241m*\u001b[39margs, \u001b[38;5;241m*\u001b[39m\u001b[38;5;241m*\u001b[39mkwargs)  \u001b[38;5;66;03m# type: ignore[misc]\u001b[39;00m\n\u001b[0;32m   1735\u001b[0m \u001b[38;5;28;01melse\u001b[39;00m:\n\u001b[1;32m-> 1736\u001b[0m     \u001b[38;5;28;01mreturn\u001b[39;00m \u001b[38;5;28;43mself\u001b[39;49m\u001b[38;5;241;43m.\u001b[39;49m\u001b[43m_call_impl\u001b[49m\u001b[43m(\u001b[49m\u001b[38;5;241;43m*\u001b[39;49m\u001b[43margs\u001b[49m\u001b[43m,\u001b[49m\u001b[43m \u001b[49m\u001b[38;5;241;43m*\u001b[39;49m\u001b[38;5;241;43m*\u001b[39;49m\u001b[43mkwargs\u001b[49m\u001b[43m)\u001b[49m\n",
      "File \u001b[1;32md:\\ASU\\Fall 2024\\EEE549\\Notebooks\\HW0\\.conda\\Lib\\site-packages\\torch\\nn\\modules\\module.py:1747\u001b[0m, in \u001b[0;36mModule._call_impl\u001b[1;34m(self, *args, **kwargs)\u001b[0m\n\u001b[0;32m   1742\u001b[0m \u001b[38;5;66;03m# If we don't have any hooks, we want to skip the rest of the logic in\u001b[39;00m\n\u001b[0;32m   1743\u001b[0m \u001b[38;5;66;03m# this function, and just call forward.\u001b[39;00m\n\u001b[0;32m   1744\u001b[0m \u001b[38;5;28;01mif\u001b[39;00m \u001b[38;5;129;01mnot\u001b[39;00m (\u001b[38;5;28mself\u001b[39m\u001b[38;5;241m.\u001b[39m_backward_hooks \u001b[38;5;129;01mor\u001b[39;00m \u001b[38;5;28mself\u001b[39m\u001b[38;5;241m.\u001b[39m_backward_pre_hooks \u001b[38;5;129;01mor\u001b[39;00m \u001b[38;5;28mself\u001b[39m\u001b[38;5;241m.\u001b[39m_forward_hooks \u001b[38;5;129;01mor\u001b[39;00m \u001b[38;5;28mself\u001b[39m\u001b[38;5;241m.\u001b[39m_forward_pre_hooks\n\u001b[0;32m   1745\u001b[0m         \u001b[38;5;129;01mor\u001b[39;00m _global_backward_pre_hooks \u001b[38;5;129;01mor\u001b[39;00m _global_backward_hooks\n\u001b[0;32m   1746\u001b[0m         \u001b[38;5;129;01mor\u001b[39;00m _global_forward_hooks \u001b[38;5;129;01mor\u001b[39;00m _global_forward_pre_hooks):\n\u001b[1;32m-> 1747\u001b[0m     \u001b[38;5;28;01mreturn\u001b[39;00m \u001b[43mforward_call\u001b[49m\u001b[43m(\u001b[49m\u001b[38;5;241;43m*\u001b[39;49m\u001b[43margs\u001b[49m\u001b[43m,\u001b[49m\u001b[43m \u001b[49m\u001b[38;5;241;43m*\u001b[39;49m\u001b[38;5;241;43m*\u001b[39;49m\u001b[43mkwargs\u001b[49m\u001b[43m)\u001b[49m\n\u001b[0;32m   1749\u001b[0m result \u001b[38;5;241m=\u001b[39m \u001b[38;5;28;01mNone\u001b[39;00m\n\u001b[0;32m   1750\u001b[0m called_always_called_hooks \u001b[38;5;241m=\u001b[39m \u001b[38;5;28mset\u001b[39m()\n",
      "Cell \u001b[1;32mIn[9], line 19\u001b[0m, in \u001b[0;36mCNN.forward\u001b[1;34m(self, x)\u001b[0m\n\u001b[0;32m     18\u001b[0m \u001b[38;5;28;01mdef\u001b[39;00m \u001b[38;5;21mforward\u001b[39m(\u001b[38;5;28mself\u001b[39m, x):\n\u001b[1;32m---> 19\u001b[0m     x \u001b[38;5;241m=\u001b[39m \u001b[38;5;28mself\u001b[39m\u001b[38;5;241m.\u001b[39mpool(torch\u001b[38;5;241m.\u001b[39mrelu(\u001b[38;5;28;43mself\u001b[39;49m\u001b[38;5;241;43m.\u001b[39;49m\u001b[43mconv1\u001b[49m\u001b[43m(\u001b[49m\u001b[43mx\u001b[49m\u001b[43m)\u001b[49m))\n\u001b[0;32m     20\u001b[0m     x \u001b[38;5;241m=\u001b[39m \u001b[38;5;28mself\u001b[39m\u001b[38;5;241m.\u001b[39mpool(torch\u001b[38;5;241m.\u001b[39mrelu(\u001b[38;5;28mself\u001b[39m\u001b[38;5;241m.\u001b[39mconv2(x)))\n\u001b[0;32m     21\u001b[0m     x \u001b[38;5;241m=\u001b[39m x\u001b[38;5;241m.\u001b[39mview(\u001b[38;5;241m-\u001b[39m\u001b[38;5;241m1\u001b[39m, \u001b[38;5;241m32\u001b[39m \u001b[38;5;241m*\u001b[39m \u001b[38;5;241m8\u001b[39m \u001b[38;5;241m*\u001b[39m \u001b[38;5;241m8\u001b[39m)\n",
      "File \u001b[1;32md:\\ASU\\Fall 2024\\EEE549\\Notebooks\\HW0\\.conda\\Lib\\site-packages\\torch\\nn\\modules\\module.py:1736\u001b[0m, in \u001b[0;36mModule._wrapped_call_impl\u001b[1;34m(self, *args, **kwargs)\u001b[0m\n\u001b[0;32m   1734\u001b[0m     \u001b[38;5;28;01mreturn\u001b[39;00m \u001b[38;5;28mself\u001b[39m\u001b[38;5;241m.\u001b[39m_compiled_call_impl(\u001b[38;5;241m*\u001b[39margs, \u001b[38;5;241m*\u001b[39m\u001b[38;5;241m*\u001b[39mkwargs)  \u001b[38;5;66;03m# type: ignore[misc]\u001b[39;00m\n\u001b[0;32m   1735\u001b[0m \u001b[38;5;28;01melse\u001b[39;00m:\n\u001b[1;32m-> 1736\u001b[0m     \u001b[38;5;28;01mreturn\u001b[39;00m \u001b[38;5;28;43mself\u001b[39;49m\u001b[38;5;241;43m.\u001b[39;49m\u001b[43m_call_impl\u001b[49m\u001b[43m(\u001b[49m\u001b[38;5;241;43m*\u001b[39;49m\u001b[43margs\u001b[49m\u001b[43m,\u001b[49m\u001b[43m \u001b[49m\u001b[38;5;241;43m*\u001b[39;49m\u001b[38;5;241;43m*\u001b[39;49m\u001b[43mkwargs\u001b[49m\u001b[43m)\u001b[49m\n",
      "File \u001b[1;32md:\\ASU\\Fall 2024\\EEE549\\Notebooks\\HW0\\.conda\\Lib\\site-packages\\torch\\nn\\modules\\module.py:1747\u001b[0m, in \u001b[0;36mModule._call_impl\u001b[1;34m(self, *args, **kwargs)\u001b[0m\n\u001b[0;32m   1742\u001b[0m \u001b[38;5;66;03m# If we don't have any hooks, we want to skip the rest of the logic in\u001b[39;00m\n\u001b[0;32m   1743\u001b[0m \u001b[38;5;66;03m# this function, and just call forward.\u001b[39;00m\n\u001b[0;32m   1744\u001b[0m \u001b[38;5;28;01mif\u001b[39;00m \u001b[38;5;129;01mnot\u001b[39;00m (\u001b[38;5;28mself\u001b[39m\u001b[38;5;241m.\u001b[39m_backward_hooks \u001b[38;5;129;01mor\u001b[39;00m \u001b[38;5;28mself\u001b[39m\u001b[38;5;241m.\u001b[39m_backward_pre_hooks \u001b[38;5;129;01mor\u001b[39;00m \u001b[38;5;28mself\u001b[39m\u001b[38;5;241m.\u001b[39m_forward_hooks \u001b[38;5;129;01mor\u001b[39;00m \u001b[38;5;28mself\u001b[39m\u001b[38;5;241m.\u001b[39m_forward_pre_hooks\n\u001b[0;32m   1745\u001b[0m         \u001b[38;5;129;01mor\u001b[39;00m _global_backward_pre_hooks \u001b[38;5;129;01mor\u001b[39;00m _global_backward_hooks\n\u001b[0;32m   1746\u001b[0m         \u001b[38;5;129;01mor\u001b[39;00m _global_forward_hooks \u001b[38;5;129;01mor\u001b[39;00m _global_forward_pre_hooks):\n\u001b[1;32m-> 1747\u001b[0m     \u001b[38;5;28;01mreturn\u001b[39;00m \u001b[43mforward_call\u001b[49m\u001b[43m(\u001b[49m\u001b[38;5;241;43m*\u001b[39;49m\u001b[43margs\u001b[49m\u001b[43m,\u001b[49m\u001b[43m \u001b[49m\u001b[38;5;241;43m*\u001b[39;49m\u001b[38;5;241;43m*\u001b[39;49m\u001b[43mkwargs\u001b[49m\u001b[43m)\u001b[49m\n\u001b[0;32m   1749\u001b[0m result \u001b[38;5;241m=\u001b[39m \u001b[38;5;28;01mNone\u001b[39;00m\n\u001b[0;32m   1750\u001b[0m called_always_called_hooks \u001b[38;5;241m=\u001b[39m \u001b[38;5;28mset\u001b[39m()\n",
      "File \u001b[1;32md:\\ASU\\Fall 2024\\EEE549\\Notebooks\\HW0\\.conda\\Lib\\site-packages\\torch\\nn\\modules\\conv.py:554\u001b[0m, in \u001b[0;36mConv2d.forward\u001b[1;34m(self, input)\u001b[0m\n\u001b[0;32m    553\u001b[0m \u001b[38;5;28;01mdef\u001b[39;00m \u001b[38;5;21mforward\u001b[39m(\u001b[38;5;28mself\u001b[39m, \u001b[38;5;28minput\u001b[39m: Tensor) \u001b[38;5;241m-\u001b[39m\u001b[38;5;241m>\u001b[39m Tensor:\n\u001b[1;32m--> 554\u001b[0m     \u001b[38;5;28;01mreturn\u001b[39;00m \u001b[38;5;28;43mself\u001b[39;49m\u001b[38;5;241;43m.\u001b[39;49m\u001b[43m_conv_forward\u001b[49m\u001b[43m(\u001b[49m\u001b[38;5;28;43minput\u001b[39;49m\u001b[43m,\u001b[49m\u001b[43m \u001b[49m\u001b[38;5;28;43mself\u001b[39;49m\u001b[38;5;241;43m.\u001b[39;49m\u001b[43mweight\u001b[49m\u001b[43m,\u001b[49m\u001b[43m \u001b[49m\u001b[38;5;28;43mself\u001b[39;49m\u001b[38;5;241;43m.\u001b[39;49m\u001b[43mbias\u001b[49m\u001b[43m)\u001b[49m\n",
      "File \u001b[1;32md:\\ASU\\Fall 2024\\EEE549\\Notebooks\\HW0\\.conda\\Lib\\site-packages\\torch\\nn\\modules\\conv.py:549\u001b[0m, in \u001b[0;36mConv2d._conv_forward\u001b[1;34m(self, input, weight, bias)\u001b[0m\n\u001b[0;32m    537\u001b[0m \u001b[38;5;28;01mif\u001b[39;00m \u001b[38;5;28mself\u001b[39m\u001b[38;5;241m.\u001b[39mpadding_mode \u001b[38;5;241m!=\u001b[39m \u001b[38;5;124m\"\u001b[39m\u001b[38;5;124mzeros\u001b[39m\u001b[38;5;124m\"\u001b[39m:\n\u001b[0;32m    538\u001b[0m     \u001b[38;5;28;01mreturn\u001b[39;00m F\u001b[38;5;241m.\u001b[39mconv2d(\n\u001b[0;32m    539\u001b[0m         F\u001b[38;5;241m.\u001b[39mpad(\n\u001b[0;32m    540\u001b[0m             \u001b[38;5;28minput\u001b[39m, \u001b[38;5;28mself\u001b[39m\u001b[38;5;241m.\u001b[39m_reversed_padding_repeated_twice, mode\u001b[38;5;241m=\u001b[39m\u001b[38;5;28mself\u001b[39m\u001b[38;5;241m.\u001b[39mpadding_mode\n\u001b[1;32m   (...)\u001b[0m\n\u001b[0;32m    547\u001b[0m         \u001b[38;5;28mself\u001b[39m\u001b[38;5;241m.\u001b[39mgroups,\n\u001b[0;32m    548\u001b[0m     )\n\u001b[1;32m--> 549\u001b[0m \u001b[38;5;28;01mreturn\u001b[39;00m \u001b[43mF\u001b[49m\u001b[38;5;241;43m.\u001b[39;49m\u001b[43mconv2d\u001b[49m\u001b[43m(\u001b[49m\n\u001b[0;32m    550\u001b[0m \u001b[43m    \u001b[49m\u001b[38;5;28;43minput\u001b[39;49m\u001b[43m,\u001b[49m\u001b[43m \u001b[49m\u001b[43mweight\u001b[49m\u001b[43m,\u001b[49m\u001b[43m \u001b[49m\u001b[43mbias\u001b[49m\u001b[43m,\u001b[49m\u001b[43m \u001b[49m\u001b[38;5;28;43mself\u001b[39;49m\u001b[38;5;241;43m.\u001b[39;49m\u001b[43mstride\u001b[49m\u001b[43m,\u001b[49m\u001b[43m \u001b[49m\u001b[38;5;28;43mself\u001b[39;49m\u001b[38;5;241;43m.\u001b[39;49m\u001b[43mpadding\u001b[49m\u001b[43m,\u001b[49m\u001b[43m \u001b[49m\u001b[38;5;28;43mself\u001b[39;49m\u001b[38;5;241;43m.\u001b[39;49m\u001b[43mdilation\u001b[49m\u001b[43m,\u001b[49m\u001b[43m \u001b[49m\u001b[38;5;28;43mself\u001b[39;49m\u001b[38;5;241;43m.\u001b[39;49m\u001b[43mgroups\u001b[49m\n\u001b[0;32m    551\u001b[0m \u001b[43m\u001b[49m\u001b[43m)\u001b[49m\n",
      "\u001b[1;31mRuntimeError\u001b[0m: Expected 3D (unbatched) or 4D (batched) input to conv2d, but got input of size: [64, 150]"
     ]
    }
   ],
   "source": [
    "def get_predictions(model, data_loader):\n",
    "    model.eval()\n",
    "    all_preds = []\n",
    "    all_labels = []\n",
    "    with torch.no_grad():\n",
    "        for inputs, labels in data_loader:\n",
    "            print(\"Input shape:\", inputs.shape)  # Debug: Check input shape\n",
    "            outputs = model(inputs)\n",
    "            _, predicted = torch.max(outputs, 1)\n",
    "            all_preds.extend(predicted.numpy())\n",
    "            all_labels.extend(labels.numpy())\n",
    "    return all_preds, all_labels\n",
    "\n",
    "\n",
    "# Get predictions from PCA model\n",
    "pca_preds, pca_labels = get_predictions(model, testloader)\n",
    "# Get predictions from CNN model\n",
    "cnn_preds, cnn_labels = get_predictions(cnn, testloader)\n",
    "\n",
    "# Print classification report\n",
    "print(\"Classification Report for PCA Model:\")\n",
    "print(classification_report(pca_labels, pca_preds))\n",
    "print(\"Classification Report for CNN Model:\")\n",
    "print(classification_report(cnn_labels, cnn_preds))"
   ]
  },
  {
   "cell_type": "code",
   "execution_count": 21,
   "metadata": {},
   "outputs": [
    {
     "name": "stdout",
     "output_type": "stream",
     "text": [
      "Classification Report for CNN Model:\n",
      "              precision    recall  f1-score   support\n",
      "\n",
      "           0       0.76      0.80      0.78      1000\n",
      "           1       0.79      0.74      0.77      1000\n",
      "\n",
      "    accuracy                           0.77      2000\n",
      "   macro avg       0.77      0.77      0.77      2000\n",
      "weighted avg       0.77      0.77      0.77      2000\n",
      "\n"
     ]
    }
   ],
   "source": [
    "from sklearn.metrics import classification_report, roc_curve, auc\n",
    "from sklearn.preprocessing import label_binarize\n",
    "import numpy as np\n",
    "import matplotlib.pyplot as plt\n",
    "\n",
    "# Assuming the number of classes is known\n",
    "num_classes = 10\n",
    "# Binarize the labels for ROC curve multiclass handling\n",
    "y_test_bin = label_binarize(test_labels, classes=[i for i in range(num_classes)])\n",
    "\n",
    "# Collect predictions and probabilities\n",
    "cnn.eval()\n",
    "y_pred = []\n",
    "y_score = []\n",
    "\n",
    "with torch.no_grad():\n",
    "    for inputs, labels in testloader:\n",
    "        outputs = cnn(inputs)\n",
    "        # For ROC curve, we need the score, not the hard predictions\n",
    "        softmax_scores = torch.softmax(outputs, dim=1)\n",
    "        _, predicted = torch.max(outputs, 1)\n",
    "        \n",
    "        y_pred.extend(predicted.cpu().numpy())\n",
    "        y_score.extend(softmax_scores.cpu().numpy())\n",
    "\n",
    "# Convert collected scores and predicted labels to numpy arrays\n",
    "y_score = np.array(y_score)\n",
    "y_pred = np.array(y_pred)\n",
    "\n",
    "# Generate classification report\n",
    "print(\"Classification Report for CNN Model:\")\n",
    "print(classification_report(test_labels, y_pred))\n"
   ]
  },
  {
   "cell_type": "markdown",
   "metadata": {},
   "source": [
    "## ROC Plots"
   ]
  },
  {
   "cell_type": "markdown",
   "metadata": {},
   "source": [
    "## CNN"
   ]
  },
  {
   "cell_type": "code",
   "execution_count": 25,
   "metadata": {},
   "outputs": [
    {
     "data": {
      "image/png": "[encoded data removed]",
      "text/plain": [
       "<Figure size 1000x700 with 1 Axes>"
      ]
     },
     "metadata": {},
     "output_type": "display_data"
    }
   ],
   "source": [
    "from itertools import cycle\n",
    "import matplotlib.pyplot as plt\n",
    "from sklearn.metrics import roc_curve, auc\n",
    "import numpy as np\n",
    "\n",
    "def plot_multiclass_roc(y_test, y_score, classes, figsize=(10, 7)):\n",
    "    # Compute ROC curve and ROC area for each class\n",
    "    fpr = dict()\n",
    "    tpr = dict()\n",
    "    roc_auc = dict()\n",
    "    # Setup figure and color cycle\n",
    "    plt.figure(figsize=figsize)\n",
    "    colors = cycle(['aqua', 'darkorange', 'cornflowerblue', 'green', 'red', 'purple', 'brown', 'pink', 'gray', 'olive'])\n",
    "\n",
    "    for i, color in zip(range(len(classes)), colors):\n",
    "        # Handle classes with no positive samples\n",
    "        if np.sum(y_test[:, i]) == 0:\n",
    "            continue\n",
    "        fpr[i], tpr[i], _ = roc_curve(y_test[:, i], y_score[:, i])\n",
    "        roc_auc[i] = auc(fpr[i], tpr[i])\n",
    "        plt.plot(fpr[i], tpr[i], color=color, lw=2, label='ROC curve of class {0} (area = {1:0.2f})'.format(i, roc_auc[i]))\n",
    "\n",
    "    plt.plot([0, 1], [0, 1], 'k--', lw=2)\n",
    "    plt.xlim([0.0, 1.0])\n",
    "    plt.ylim([0.0, 1.05])\n",
    "    plt.xlabel('False Positive Rate')\n",
    "    plt.ylabel('True Positive Rate')\n",
    "    plt.title('Multiclass ROC Curve')\n",
    "    plt.legend(loc=\"lower right\")\n",
    "    plt.show()\n",
    "\n",
    "# Example usage with y_test_bin and y_score\n",
    "plot_multiclass_roc(y_test_bin, y_score, classes=[i for i in range(num_classes)])\n"
   ]
  },
  {
   "cell_type": "code",
   "execution_count": null,
   "metadata": {},
   "outputs": [],
   "source": []
  }
 ],
 "metadata": {
  "kernelspec": {
   "display_name": "Python 3",
   "language": "python",
   "name": "python3"
  },
  "language_info": {
   "codemirror_mode": {
    "name": "ipython",
    "version": 3
   },
   "file_extension": ".py",
   "mimetype": "text/x-python",
   "name": "python",
   "nbconvert_exporter": "python",
   "pygments_lexer": "ipython3",
   "version": "3.11.9"
  }
 },
 "nbformat": 4,
 "nbformat_minor": 2
}
