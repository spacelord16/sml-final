{
 "cells": [
  {
   "cell_type": "code",
   "execution_count": null,
   "metadata": {},
   "outputs": [],
   "source": [
    "import numpy as np\n",
    "import matplotlib.pyplot as plt\n",
    "from sklearn.linear_model import LogisticRegression\n",
    "from sklearn.svm import SVC\n",
    "from sklearn.model_selection import train_test_split\n",
    "from sklearn.metrics import accuracy_score, classification_report\n",
    "import torchvision\n",
    "import torchvision.transforms as transforms\n",
    "import torch\n",
    "import logging\n",
    "\n",
    "logging.basicConfig(level=logging.INFO)\n",
    "\n",
    "# Function to load preprocessed MNIST data\n",
    "def load_preprocessed_mnist_data():\n",
    "    # Assuming the data is saved as PyTorch tensors\n",
    "    train_data, train_targets = torch.load('D:\\ASU\\Fall 2024\\EEE549\\Final term project\\sml-final\\data\\preprocessed\\MNIST\\preprocessed_train_mnist.pt')\n",
    "    test_data, test_targets = torch.load('D:\\ASU\\Fall 2024\\EEE549\\Final term project\\sml-final\\data\\preprocessed\\MNIST\\preprocessed_test_mnist.pt')\n",
    "\n",
    "    # Convert tensors to numpy arrays for sklearn compatibility, and reshape images to 1D\n",
    "    X_train = train_data.numpy().reshape(train_data.shape[0], -1)\n",
    "    X_test = test_data.numpy().reshape(test_data.shape[0], -1)\n",
    "    y_train = train_targets.numpy()\n",
    "    y_test = test_targets.numpy()\n",
    "\n",
    "    return X_train, X_test, y_train, y_test\n",
    "\n",
    "# Load the data\n",
    "X_train, X_test, y_train, y_test = load_preprocessed_mnist_data()\n",
    "\n"
   ]
  },
  {
   "cell_type": "code",
   "execution_count": 2,
   "metadata": {},
   "outputs": [
    {
     "name": "stdout",
     "output_type": "stream",
     "text": [
      "(9585, 784)\n",
      "(1984, 784)\n",
      "(9585,)\n",
      "(1984,)\n"
     ]
    }
   ],
   "source": [
    "# Splitting data for validation (optional)\n",
    "X_train, X_val, y_train, y_val = train_test_split(X_train, y_train, test_size=0.2, random_state=42)\n",
    "\n",
    "print(X_train.shape)\n",
    "print(X_test.shape)\n",
    "print(y_train.shape)\n",
    "print(y_test.shape)\n"
   ]
  },
  {
   "cell_type": "markdown",
   "metadata": {},
   "source": [
    "## Logistic reg"
   ]
  },
  {
   "cell_type": "code",
   "execution_count": 17,
   "metadata": {},
   "outputs": [],
   "source": [
    "def train_logistic_regression(X_train, y_train, X_val, y_val):\n",
    "    logging.info(\"Training Logistic Regression: penalty=none, solver=saga\")\n",
    "    lr_model = LogisticRegression(penalty=None, solver='saga', max_iter=5000)\n",
    "    lr_model.fit(X_train, y_train)\n",
    "    y_pred_val = lr_model.predict(X_val)\n",
    "    logging.info(\"Completed Training Logistic Regression\")\n",
    "    print(\"Validation Accuracy (Logistic Regression without reg):\", accuracy_score(y_val, y_pred_val))\n",
    "    return lr_model\n",
    "\n",
    "def train_logistic_regression_l2(X_train, y_train, X_val, y_val):\n",
    "    logging.info(\"Training Logistic Regression with L2 regularization: penalty=l2, solver=saga\")\n",
    "    lr_model_reg = LogisticRegression(penalty='l2', solver='saga', max_iter=5000, C=1.0)\n",
    "    lr_model_reg.fit(X_train, y_train)\n",
    "    y_pred_val_reg = lr_model_reg.predict(X_val)\n",
    "    logging.info(\"Completed Training Logistic Regression with L2\")\n",
    "    print(\"Validation Accuracy (Logistic Regression with L2):\", accuracy_score(y_val, y_pred_val_reg))\n",
    "    return lr_model_reg\n"
   ]
  },
  {
   "cell_type": "markdown",
   "metadata": {},
   "source": [
    "## SVM"
   ]
  },
  {
   "cell_type": "code",
   "execution_count": 18,
   "metadata": {},
   "outputs": [],
   "source": [
    "def train_svm_rbf(X_train, y_train, X_val, y_val):\n",
    "    logging.info(\"Training SVM RBF\")\n",
    "    svm_rbf = SVC(kernel='rbf', gamma='scale')\n",
    "    svm_rbf.fit(X_train, y_train)\n",
    "    y_pred_val_rbf = svm_rbf.predict(X_val)\n",
    "    logging.info(\"Completed SVM RBF\")\n",
    "    print(\"Validation Accuracy (SVM RBF Kernel):\", accuracy_score(y_val, y_pred_val_rbf))\n",
    "    return svm_rbf\n",
    "\n",
    "def train_svm_poly(X_train, y_train, X_val, y_val):\n",
    "    logging.info(\"Training SVM Poly\")\n",
    "    svm_poly = SVC(kernel='poly', degree=3, gamma='scale')\n",
    "    svm_poly.fit(X_train, y_train)\n",
    "    y_pred_val_poly = svm_poly.predict(X_val)\n",
    "    logging.info(\"Completed SVM Poly\")\n",
    "    print(\"Validation Accuracy (SVM Polynomial Kernel):\", accuracy_score(y_val, y_pred_val_poly))\n",
    "    return svm_poly"
   ]
  },
  {
   "cell_type": "markdown",
   "metadata": {},
   "source": [
    "## Training models"
   ]
  },
  {
   "cell_type": "code",
   "execution_count": 19,
   "metadata": {},
   "outputs": [
    {
     "name": "stderr",
     "output_type": "stream",
     "text": [
      "INFO:root:Training Logistic Regression: penalty=none, solver=saga\n",
      "INFO:root:Completed Training Logistic Regression\n",
      "INFO:root:Training Logistic Regression with L2 regularization: penalty=l2, solver=saga\n"
     ]
    },
    {
     "name": "stdout",
     "output_type": "stream",
     "text": [
      "Validation Accuracy (Logistic Regression without reg): 0.9616186900292032\n"
     ]
    },
    {
     "name": "stderr",
     "output_type": "stream",
     "text": [
      "INFO:root:Completed Training Logistic Regression with L2\n",
      "INFO:root:Training SVM RBF\n"
     ]
    },
    {
     "name": "stdout",
     "output_type": "stream",
     "text": [
      "Validation Accuracy (Logistic Regression with L2): 0.9616186900292032\n"
     ]
    },
    {
     "name": "stderr",
     "output_type": "stream",
     "text": [
      "INFO:root:Completed SVM RBF\n",
      "INFO:root:Training SVM Poly\n"
     ]
    },
    {
     "name": "stdout",
     "output_type": "stream",
     "text": [
      "Validation Accuracy (SVM RBF Kernel): 0.9899874843554443\n"
     ]
    },
    {
     "name": "stderr",
     "output_type": "stream",
     "text": [
      "INFO:root:Completed SVM Poly\n"
     ]
    },
    {
     "name": "stdout",
     "output_type": "stream",
     "text": [
      "Validation Accuracy (SVM Polynomial Kernel): 0.9920734251147267\n"
     ]
    }
   ],
   "source": [
    "lr_model = train_logistic_regression(X_train, y_train, X_val, y_val)\n",
    "lr_model_reg = train_logistic_regression_l2(X_train, y_train, X_val, y_val)\n",
    "svm_rbf = train_svm_rbf(X_train, y_train, X_val, y_val)\n",
    "svm_poly = train_svm_poly(X_train, y_train, X_val, y_val)"
   ]
  },
  {
   "cell_type": "code",
   "execution_count": null,
   "metadata": {},
   "outputs": [],
   "source": []
  },
  {
   "cell_type": "code",
   "execution_count": 20,
   "metadata": {},
   "outputs": [
    {
     "name": "stdout",
     "output_type": "stream",
     "text": [
      "Test Accuracy (SVM Polynomial Kernel): 0.9924395161290323\n",
      "              precision    recall  f1-score   support\n",
      "\n",
      "           3       0.99      0.99      0.99      1010\n",
      "           8       0.99      0.99      0.99       974\n",
      "\n",
      "    accuracy                           0.99      1984\n",
      "   macro avg       0.99      0.99      0.99      1984\n",
      "weighted avg       0.99      0.99      0.99      1984\n",
      "\n"
     ]
    }
   ],
   "source": [
    "# Assuming you have already loaded the test set X_test, y_test\n",
    "y_pred_test_poly = svm_poly.predict(X_test)\n",
    "test_accuracy_poly = accuracy_score(y_test, y_pred_test_poly)\n",
    "print(\"Test Accuracy (SVM Polynomial Kernel):\", test_accuracy_poly)\n",
    "print(classification_report(y_test, y_pred_test_poly))"
   ]
  },
  {
   "cell_type": "markdown",
   "metadata": {},
   "source": [
    "## Log plots"
   ]
  },
  {
   "cell_type": "code",
   "execution_count": null,
   "metadata": {},
   "outputs": [],
   "source": []
  }
 ],
 "metadata": {
  "kernelspec": {
   "display_name": "statml",
   "language": "python",
   "name": "python3"
  },
  "language_info": {
   "codemirror_mode": {
    "name": "ipython",
    "version": 3
   },
   "file_extension": ".py",
   "mimetype": "text/x-python",
   "name": "python",
   "nbconvert_exporter": "python",
   "pygments_lexer": "ipython3",
   "version": "3.10.14"
  }
 },
 "nbformat": 4,
 "nbformat_minor": 2
}
