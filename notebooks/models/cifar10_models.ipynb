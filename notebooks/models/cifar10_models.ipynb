{
 "cells": [
  {
   "cell_type": "code",
   "execution_count": 16,
   "metadata": {},
   "outputs": [],
   "source": [
    "import torch\n",
    "import numpy as np\n",
    "from sklearn.decomposition import PCA\n",
    "import torch.nn as nn\n",
    "import torch.optim as optim\n",
    "import torchvision\n",
    "import torchvision.transforms as transforms\n",
    "from torch.utils.data import TensorDataset, DataLoader\n",
    "from numpy.core.multiarray import _reconstruct\n",
    "import torch.serialization\n",
    "\n",
    "# Allowlist the _reconstruct function if you trust the source\n",
    "torch.serialization.add_safe_globals([_reconstruct])\n",
    "\n",
    "# Now attempt to load with weights_only=True\n",
    "train_data, train_labels = torch.load('D:\\\\ASU\\\\Fall 2024\\\\EEE549\\\\Final term project\\\\sml-final\\\\data\\\\preprocessed\\\\cifar10\\\\preprocessed_train_cifar.pt', weights_only=False)\n",
    "test_data, test_labels = torch.load('D:\\\\ASU\\\\Fall 2024\\\\EEE549\\\\Final term project\\\\sml-final\\\\data\\\\preprocessed\\\\cifar10\\\\preprocessed_test_cifar.pt', weights_only=False)\n"
   ]
  },
  {
   "cell_type": "code",
   "execution_count": 8,
   "metadata": {},
   "outputs": [
    {
     "name": "stdout",
     "output_type": "stream",
     "text": [
      "<class 'numpy.ndarray'>\n",
      "False\n"
     ]
    }
   ],
   "source": [
    "print(type(train_data))\n",
    "print(isinstance(train_data, torch.Tensor))"
   ]
  },
  {
   "cell_type": "code",
   "execution_count": 12,
   "metadata": {},
   "outputs": [
    {
     "name": "stdout",
     "output_type": "stream",
     "text": [
      "Train Data Type: <class 'torch.Tensor'>\n",
      "Test Data Type: <class 'torch.Tensor'>\n"
     ]
    }
   ],
   "source": [
    "# Check the data types\n",
    "print(f'Train Data Type: {type(train_data)}')\n",
    "print(f'Test Data Type: {type(test_data)}')\n",
    "\n",
    "# Assuming the data is loaded correctly and is indeed a Tensor\n",
    "if isinstance(train_data, torch.Tensor) and isinstance(test_data, torch.Tensor):\n",
    "    # Flatten the data and convert to numpy arrays for PCA\n",
    "    X_train = train_data.view(train_data.size(0), -1).numpy()\n",
    "    X_test = test_data.view(test_data.size(0), -1).numpy()\n",
    "else:\n",
    "    print(\"Data is not in tensor format.\")"
   ]
  },
  {
   "cell_type": "code",
   "execution_count": 10,
   "metadata": {},
   "outputs": [],
   "source": [
    "if not isinstance(train_data, torch.Tensor):\n",
    "    train_data = torch.tensor(train_data, dtype=torch.float)\n",
    "if not isinstance(test_data, torch.Tensor):\n",
    "    test_data = torch.tensor(test_data, dtype=torch.float)"
   ]
  },
  {
   "cell_type": "code",
   "execution_count": 11,
   "metadata": {},
   "outputs": [
    {
     "name": "stderr",
     "output_type": "stream",
     "text": [
      "C:\\Users\\Aditya\\AppData\\Local\\Temp\\ipykernel_49764\\1025937828.py:13: UserWarning: To copy construct from a tensor, it is recommended to use sourceTensor.clone().detach() or sourceTensor.clone().detach().requires_grad_(True), rather than torch.tensor(sourceTensor).\n",
      "  y_train = torch.tensor(train_labels, dtype=torch.long)\n",
      "C:\\Users\\Aditya\\AppData\\Local\\Temp\\ipykernel_49764\\1025937828.py:14: UserWarning: To copy construct from a tensor, it is recommended to use sourceTensor.clone().detach() or sourceTensor.clone().detach().requires_grad_(True), rather than torch.tensor(sourceTensor).\n",
      "  y_test = torch.tensor(test_labels, dtype=torch.long)\n"
     ]
    }
   ],
   "source": [
    "# Flatten the data and convert to numpy arrays for PCA\n",
    "X_train = train_data.view(train_data.size(0), -1).numpy()\n",
    "X_test = test_data.view(test_data.size(0), -1).numpy()\n",
    "\n",
    "# Apply PCA to reduce dimensions\n",
    "pca = PCA(n_components=150)\n",
    "X_train_pca = pca.fit_transform(X_train)\n",
    "X_test_pca = pca.transform(X_test)\n",
    "\n",
    "# Convert PCA data back to tensors for training\n",
    "X_train_pca = torch.tensor(X_train_pca, dtype=torch.float)\n",
    "X_test_pca = torch.tensor(X_test_pca, dtype=torch.float)\n",
    "y_train = torch.tensor(train_labels, dtype=torch.long)\n",
    "y_test = torch.tensor(test_labels, dtype=torch.long)"
   ]
  },
  {
   "cell_type": "markdown",
   "metadata": {},
   "source": [
    "## PCA"
   ]
  },
  {
   "cell_type": "code",
   "execution_count": 21,
   "metadata": {},
   "outputs": [
    {
     "name": "stderr",
     "output_type": "stream",
     "text": [
      "C:\\Users\\Aditya\\AppData\\Local\\Temp\\ipykernel_49764\\14249072.py:20: UserWarning: To copy construct from a tensor, it is recommended to use sourceTensor.clone().detach() or sourceTensor.clone().detach().requires_grad_(True), rather than torch.tensor(sourceTensor).\n",
      "  X_train_pca_tensor = torch.tensor(X_train_pca, dtype=torch.float)\n",
      "C:\\Users\\Aditya\\AppData\\Local\\Temp\\ipykernel_49764\\14249072.py:21: UserWarning: To copy construct from a tensor, it is recommended to use sourceTensor.clone().detach() or sourceTensor.clone().detach().requires_grad_(True), rather than torch.tensor(sourceTensor).\n",
      "  y_train_tensor = torch.tensor(train_labels, dtype=torch.long)\n",
      "C:\\Users\\Aditya\\AppData\\Local\\Temp\\ipykernel_49764\\14249072.py:22: UserWarning: To copy construct from a tensor, it is recommended to use sourceTensor.clone().detach() or sourceTensor.clone().detach().requires_grad_(True), rather than torch.tensor(sourceTensor).\n",
      "  X_test_pca_tensor = torch.tensor(X_test_pca, dtype=torch.float)\n",
      "C:\\Users\\Aditya\\AppData\\Local\\Temp\\ipykernel_49764\\14249072.py:23: UserWarning: To copy construct from a tensor, it is recommended to use sourceTensor.clone().detach() or sourceTensor.clone().detach().requires_grad_(True), rather than torch.tensor(sourceTensor).\n",
      "  y_test_tensor = torch.tensor(test_labels, dtype=torch.long)\n"
     ]
    },
    {
     "name": "stdout",
     "output_type": "stream",
     "text": [
      "Epoch 1/100, Train Loss: 12.8325, Test Loss: 4.8035, Train Acc: 74.43%, Test Acc: 70.40%\n",
      "Epoch 2/100, Train Loss: 3.0200, Test Loss: 3.3831, Train Acc: 76.99%, Test Acc: 71.75%\n",
      "Epoch 3/100, Train Loss: 1.6870, Test Loss: 2.2692, Train Acc: 82.31%, Test Acc: 74.05%\n",
      "Epoch 4/100, Train Loss: 1.1009, Test Loss: 2.2265, Train Acc: 79.78%, Test Acc: 72.05%\n",
      "Epoch 5/100, Train Loss: 0.7321, Test Loss: 1.4460, Train Acc: 85.17%, Test Acc: 74.55%\n",
      "Epoch 6/100, Train Loss: 0.5595, Test Loss: 1.1480, Train Acc: 88.04%, Test Acc: 75.80%\n",
      "Epoch 7/100, Train Loss: 0.4191, Test Loss: 1.0887, Train Acc: 87.85%, Test Acc: 74.25%\n",
      "Epoch 8/100, Train Loss: 0.3880, Test Loss: 1.0956, Train Acc: 87.27%, Test Acc: 73.60%\n",
      "Epoch 9/100, Train Loss: 0.3522, Test Loss: 0.9874, Train Acc: 90.31%, Test Acc: 76.00%\n",
      "Epoch 10/100, Train Loss: 0.3133, Test Loss: 0.9029, Train Acc: 91.24%, Test Acc: 77.45%\n",
      "Epoch 11/100, Train Loss: 0.2966, Test Loss: 0.9741, Train Acc: 90.62%, Test Acc: 74.65%\n",
      "Epoch 12/100, Train Loss: 0.2742, Test Loss: 1.1713, Train Acc: 86.76%, Test Acc: 75.45%\n",
      "Epoch 13/100, Train Loss: 0.2888, Test Loss: 0.9540, Train Acc: 92.93%, Test Acc: 76.25%\n",
      "Epoch 14/100, Train Loss: 0.3176, Test Loss: 1.0077, Train Acc: 91.71%, Test Acc: 77.45%\n",
      "Epoch 15/100, Train Loss: 0.2889, Test Loss: 1.0966, Train Acc: 91.45%, Test Acc: 74.90%\n",
      "Epoch 16/100, Train Loss: 0.2368, Test Loss: 0.9816, Train Acc: 92.69%, Test Acc: 75.90%\n",
      "Epoch 17/100, Train Loss: 0.2205, Test Loss: 1.0463, Train Acc: 92.91%, Test Acc: 76.95%\n",
      "Epoch 18/100, Train Loss: 0.2119, Test Loss: 1.1301, Train Acc: 91.85%, Test Acc: 76.05%\n",
      "Epoch 19/100, Train Loss: 0.2082, Test Loss: 1.0542, Train Acc: 94.20%, Test Acc: 76.60%\n",
      "Epoch 20/100, Train Loss: 0.1932, Test Loss: 1.1728, Train Acc: 91.53%, Test Acc: 76.35%\n",
      "Epoch 21/100, Train Loss: 0.2256, Test Loss: 1.1140, Train Acc: 94.27%, Test Acc: 77.35%\n",
      "Epoch 22/100, Train Loss: 0.2238, Test Loss: 1.1567, Train Acc: 93.70%, Test Acc: 77.70%\n",
      "Epoch 23/100, Train Loss: 0.2233, Test Loss: 1.3353, Train Acc: 91.60%, Test Acc: 76.45%\n",
      "Epoch 24/100, Train Loss: 0.2036, Test Loss: 1.1595, Train Acc: 93.57%, Test Acc: 78.60%\n",
      "Epoch 25/100, Train Loss: 0.2157, Test Loss: 1.3965, Train Acc: 91.11%, Test Acc: 74.70%\n",
      "Epoch 26/100, Train Loss: 0.2094, Test Loss: 1.2122, Train Acc: 95.89%, Test Acc: 79.55%\n",
      "Epoch 27/100, Train Loss: 0.1954, Test Loss: 1.2563, Train Acc: 95.66%, Test Acc: 77.90%\n",
      "Epoch 28/100, Train Loss: 0.1835, Test Loss: 1.4184, Train Acc: 93.61%, Test Acc: 77.15%\n",
      "Epoch 29/100, Train Loss: 0.2018, Test Loss: 1.3739, Train Acc: 93.01%, Test Acc: 77.35%\n",
      "Epoch 30/100, Train Loss: 0.1702, Test Loss: 1.4476, Train Acc: 94.84%, Test Acc: 77.10%\n",
      "Epoch 31/100, Train Loss: 0.1751, Test Loss: 1.4323, Train Acc: 94.66%, Test Acc: 77.15%\n",
      "Epoch 32/100, Train Loss: 0.1665, Test Loss: 1.5323, Train Acc: 94.03%, Test Acc: 77.80%\n",
      "Epoch 33/100, Train Loss: 0.1651, Test Loss: 1.4421, Train Acc: 96.19%, Test Acc: 77.90%\n",
      "Epoch 34/100, Train Loss: 0.1708, Test Loss: 1.4631, Train Acc: 96.49%, Test Acc: 79.00%\n",
      "Epoch 35/100, Train Loss: 0.2058, Test Loss: 1.7517, Train Acc: 92.47%, Test Acc: 76.15%\n",
      "Epoch 36/100, Train Loss: 0.1661, Test Loss: 1.6003, Train Acc: 96.22%, Test Acc: 78.40%\n",
      "Epoch 37/100, Train Loss: 0.1581, Test Loss: 1.6738, Train Acc: 94.74%, Test Acc: 78.30%\n",
      "Epoch 38/100, Train Loss: 0.1812, Test Loss: 1.8261, Train Acc: 95.58%, Test Acc: 76.90%\n",
      "Epoch 39/100, Train Loss: 0.1911, Test Loss: 1.8257, Train Acc: 96.76%, Test Acc: 77.25%\n",
      "Epoch 40/100, Train Loss: 0.1769, Test Loss: 1.8934, Train Acc: 96.59%, Test Acc: 78.35%\n",
      "Epoch 41/100, Train Loss: 0.1779, Test Loss: 1.9329, Train Acc: 96.32%, Test Acc: 77.80%\n",
      "Epoch 42/100, Train Loss: 0.1838, Test Loss: 1.9368, Train Acc: 96.42%, Test Acc: 78.25%\n",
      "Epoch 43/100, Train Loss: 0.1495, Test Loss: 1.9507, Train Acc: 96.73%, Test Acc: 78.80%\n",
      "Epoch 44/100, Train Loss: 0.1909, Test Loss: 2.3405, Train Acc: 94.09%, Test Acc: 77.05%\n",
      "Epoch 45/100, Train Loss: 0.2444, Test Loss: 2.2428, Train Acc: 96.01%, Test Acc: 76.70%\n",
      "Epoch 46/100, Train Loss: 0.1565, Test Loss: 2.0893, Train Acc: 97.27%, Test Acc: 78.05%\n",
      "Epoch 47/100, Train Loss: 0.1554, Test Loss: 2.1296, Train Acc: 97.00%, Test Acc: 78.50%\n",
      "Epoch 48/100, Train Loss: 0.1370, Test Loss: 2.1859, Train Acc: 97.15%, Test Acc: 78.90%\n",
      "Epoch 49/100, Train Loss: 0.1101, Test Loss: 2.3400, Train Acc: 96.39%, Test Acc: 78.10%\n",
      "Epoch 50/100, Train Loss: 0.1269, Test Loss: 2.4557, Train Acc: 96.19%, Test Acc: 77.75%\n",
      "Epoch 51/100, Train Loss: 0.1679, Test Loss: 2.5040, Train Acc: 96.68%, Test Acc: 77.05%\n",
      "Epoch 52/100, Train Loss: 0.1512, Test Loss: 2.5909, Train Acc: 96.48%, Test Acc: 77.80%\n",
      "Epoch 53/100, Train Loss: 0.1526, Test Loss: 2.7632, Train Acc: 95.65%, Test Acc: 78.50%\n",
      "Epoch 54/100, Train Loss: 0.2006, Test Loss: 2.6259, Train Acc: 97.56%, Test Acc: 79.20%\n",
      "Epoch 55/100, Train Loss: 0.1221, Test Loss: 2.8665, Train Acc: 96.37%, Test Acc: 77.55%\n",
      "Epoch 56/100, Train Loss: 0.1690, Test Loss: 2.6747, Train Acc: 97.67%, Test Acc: 78.90%\n",
      "Epoch 57/100, Train Loss: 0.1283, Test Loss: 2.7618, Train Acc: 97.14%, Test Acc: 77.95%\n",
      "Epoch 58/100, Train Loss: 0.1470, Test Loss: 2.7251, Train Acc: 97.61%, Test Acc: 79.05%\n",
      "Epoch 59/100, Train Loss: 0.1368, Test Loss: 2.8157, Train Acc: 97.14%, Test Acc: 78.80%\n",
      "Epoch 60/100, Train Loss: 0.1315, Test Loss: 2.9299, Train Acc: 97.16%, Test Acc: 79.05%\n",
      "Epoch 61/100, Train Loss: 0.0926, Test Loss: 2.8632, Train Acc: 98.31%, Test Acc: 79.55%\n",
      "Epoch 62/100, Train Loss: 0.0764, Test Loss: 2.9658, Train Acc: 97.99%, Test Acc: 77.85%\n",
      "Epoch 63/100, Train Loss: 0.2114, Test Loss: 3.3125, Train Acc: 97.42%, Test Acc: 77.90%\n",
      "Epoch 64/100, Train Loss: 0.1975, Test Loss: 3.2874, Train Acc: 96.15%, Test Acc: 79.50%\n",
      "Epoch 65/100, Train Loss: 0.1905, Test Loss: 3.0631, Train Acc: 97.61%, Test Acc: 79.35%\n",
      "Epoch 66/100, Train Loss: 0.1188, Test Loss: 3.2547, Train Acc: 98.33%, Test Acc: 78.85%\n",
      "Epoch 67/100, Train Loss: 0.0918, Test Loss: 3.4422, Train Acc: 98.12%, Test Acc: 78.50%\n",
      "Epoch 68/100, Train Loss: 0.1331, Test Loss: 3.4877, Train Acc: 96.92%, Test Acc: 78.60%\n",
      "Epoch 69/100, Train Loss: 0.1116, Test Loss: 3.6754, Train Acc: 97.72%, Test Acc: 78.60%\n",
      "Epoch 70/100, Train Loss: 0.0877, Test Loss: 3.6961, Train Acc: 97.80%, Test Acc: 78.55%\n",
      "Epoch 71/100, Train Loss: 0.0920, Test Loss: 3.8077, Train Acc: 97.50%, Test Acc: 77.35%\n",
      "Epoch 72/100, Train Loss: 0.2100, Test Loss: 3.9521, Train Acc: 97.39%, Test Acc: 77.95%\n",
      "Epoch 73/100, Train Loss: 0.1791, Test Loss: 4.1440, Train Acc: 97.13%, Test Acc: 77.80%\n",
      "Epoch 74/100, Train Loss: 0.1347, Test Loss: 3.7070, Train Acc: 98.77%, Test Acc: 78.35%\n",
      "Epoch 75/100, Train Loss: 0.1062, Test Loss: 3.7713, Train Acc: 98.05%, Test Acc: 79.55%\n",
      "Epoch 76/100, Train Loss: 0.1300, Test Loss: 4.0998, Train Acc: 97.71%, Test Acc: 79.00%\n",
      "Epoch 77/100, Train Loss: 0.1594, Test Loss: 4.1200, Train Acc: 98.23%, Test Acc: 79.15%\n",
      "Epoch 78/100, Train Loss: 0.1156, Test Loss: 4.2395, Train Acc: 98.56%, Test Acc: 79.40%\n",
      "Epoch 79/100, Train Loss: 0.0793, Test Loss: 4.2610, Train Acc: 98.88%, Test Acc: 78.65%\n",
      "Epoch 80/100, Train Loss: 0.2334, Test Loss: 4.4811, Train Acc: 98.25%, Test Acc: 79.00%\n",
      "Epoch 81/100, Train Loss: 0.1906, Test Loss: 4.8779, Train Acc: 97.16%, Test Acc: 77.60%\n",
      "Epoch 82/100, Train Loss: 0.1299, Test Loss: 4.5793, Train Acc: 98.11%, Test Acc: 79.75%\n",
      "Epoch 83/100, Train Loss: 0.1879, Test Loss: 4.5787, Train Acc: 98.08%, Test Acc: 79.05%\n",
      "Epoch 84/100, Train Loss: 0.1082, Test Loss: 4.6616, Train Acc: 98.45%, Test Acc: 79.10%\n",
      "Epoch 85/100, Train Loss: 0.0662, Test Loss: 4.6611, Train Acc: 99.29%, Test Acc: 78.15%\n",
      "Epoch 86/100, Train Loss: 0.0681, Test Loss: 4.7057, Train Acc: 98.88%, Test Acc: 79.25%\n",
      "Epoch 87/100, Train Loss: 0.1295, Test Loss: 4.6163, Train Acc: 98.55%, Test Acc: 79.30%\n",
      "Epoch 88/100, Train Loss: 0.0918, Test Loss: 5.0133, Train Acc: 97.60%, Test Acc: 78.20%\n",
      "Epoch 89/100, Train Loss: 0.1658, Test Loss: 4.9668, Train Acc: 98.42%, Test Acc: 79.35%\n",
      "Epoch 90/100, Train Loss: 0.1592, Test Loss: 4.9700, Train Acc: 98.94%, Test Acc: 79.20%\n",
      "Epoch 91/100, Train Loss: 0.0865, Test Loss: 5.1581, Train Acc: 99.11%, Test Acc: 78.10%\n",
      "Epoch 92/100, Train Loss: 0.1453, Test Loss: 5.0895, Train Acc: 98.37%, Test Acc: 78.95%\n",
      "Epoch 93/100, Train Loss: 0.1246, Test Loss: 5.5246, Train Acc: 98.40%, Test Acc: 77.50%\n",
      "Epoch 94/100, Train Loss: 0.1229, Test Loss: 5.4565, Train Acc: 97.55%, Test Acc: 77.75%\n",
      "Epoch 95/100, Train Loss: 0.1628, Test Loss: 5.7715, Train Acc: 97.07%, Test Acc: 77.90%\n",
      "Epoch 96/100, Train Loss: 0.2603, Test Loss: 5.4396, Train Acc: 98.84%, Test Acc: 79.00%\n",
      "Epoch 97/100, Train Loss: 0.1291, Test Loss: 5.6919, Train Acc: 97.99%, Test Acc: 77.10%\n",
      "Epoch 98/100, Train Loss: 0.1460, Test Loss: 5.9204, Train Acc: 97.96%, Test Acc: 78.20%\n",
      "Epoch 99/100, Train Loss: 0.1982, Test Loss: 6.1011, Train Acc: 98.43%, Test Acc: 78.55%\n",
      "Epoch 100/100, Train Loss: 0.1207, Test Loss: 6.1742, Train Acc: 98.90%, Test Acc: 78.60%\n"
     ]
    }
   ],
   "source": [
    "class SimpleNN(nn.Module):\n",
    "    def __init__(self):\n",
    "        super(SimpleNN, self).__init__()\n",
    "        self.fc1 = nn.Linear(150, 64)  # 150 features from PCA\n",
    "        self.fc2 = nn.Linear(64, 10)   # Output 10 classes\n",
    "\n",
    "    def forward(self, x):\n",
    "        x = torch.relu(self.fc1(x))\n",
    "        x = self.fc2(x)\n",
    "        return x\n",
    "\n",
    "# Create the neural network\n",
    "model = SimpleNN()\n",
    "\n",
    "# Loss and optimizer\n",
    "criterion = nn.CrossEntropyLoss()\n",
    "optimizer = optim.Adam(model.parameters(), lr=0.001)\n",
    "\n",
    "# Data conversion and DataLoader setup\n",
    "X_train_pca_tensor = torch.tensor(X_train_pca, dtype=torch.float)\n",
    "y_train_tensor = torch.tensor(train_labels, dtype=torch.long)\n",
    "X_test_pca_tensor = torch.tensor(X_test_pca, dtype=torch.float)\n",
    "y_test_tensor = torch.tensor(test_labels, dtype=torch.long)\n",
    "\n",
    "train_dataset = TensorDataset(X_train_pca_tensor, y_train_tensor)\n",
    "test_dataset = TensorDataset(X_test_pca_tensor, y_test_tensor)\n",
    "trainloader = DataLoader(train_dataset, batch_size=64, shuffle=True)\n",
    "testloader = DataLoader(test_dataset, batch_size=64, shuffle=False)\n",
    "\n",
    "# Function to calculate accuracy\n",
    "def calculate_accuracy(model, data_loader):\n",
    "    model.eval()\n",
    "    correct = 0\n",
    "    total = 0\n",
    "    with torch.no_grad():\n",
    "        for data in data_loader:\n",
    "            images, labels = data\n",
    "            outputs = model(images)\n",
    "            _, predicted = torch.max(outputs.data, 1)\n",
    "            total += labels.size(0)\n",
    "            correct += (predicted == labels).sum().item()\n",
    "    return 100 * correct / total\n",
    "\n",
    "# Train the model\n",
    "num_epochs = 100\n",
    "for epoch in range(num_epochs):\n",
    "    model.train()\n",
    "    running_loss = 0.0\n",
    "    for i, data in enumerate(trainloader, 0):\n",
    "        inputs, labels = data\n",
    "        optimizer.zero_grad()\n",
    "        outputs = model(inputs)\n",
    "        loss = criterion(outputs, labels)\n",
    "        loss.backward()\n",
    "        optimizer.step()\n",
    "        running_loss += loss.item()\n",
    "    \n",
    "    train_acc = calculate_accuracy(model, trainloader)\n",
    "    test_acc = calculate_accuracy(model, testloader)\n",
    "    train_error = running_loss / len(trainloader)\n",
    "    test_error = criterion(model(X_test_pca_tensor), y_test_tensor).item()\n",
    "\n",
    "    print(f'Epoch {epoch + 1}/{num_epochs}, Train Loss: {train_error:.4f}, Test Loss: {test_error:.4f}, Train Acc: {train_acc:.2f}%, Test Acc: {test_acc:.2f}%')\n"
   ]
  },
  {
   "cell_type": "markdown",
   "metadata": {},
   "source": [
    "## CNN"
   ]
  },
  {
   "cell_type": "code",
   "execution_count": 17,
   "metadata": {},
   "outputs": [
    {
     "name": "stderr",
     "output_type": "stream",
     "text": [
      "C:\\Users\\Aditya\\AppData\\Local\\Temp\\ipykernel_49764\\3918409937.py:5: UserWarning: To copy construct from a tensor, it is recommended to use sourceTensor.clone().detach() or sourceTensor.clone().detach().requires_grad_(True), rather than torch.tensor(sourceTensor).\n",
      "  train_dataset = TensorDataset(torch.tensor(train_data, dtype=torch.float), torch.tensor(train_labels, dtype=torch.long))\n",
      "C:\\Users\\Aditya\\AppData\\Local\\Temp\\ipykernel_49764\\3918409937.py:6: UserWarning: To copy construct from a tensor, it is recommended to use sourceTensor.clone().detach() or sourceTensor.clone().detach().requires_grad_(True), rather than torch.tensor(sourceTensor).\n",
      "  test_dataset = TensorDataset(torch.tensor(test_data, dtype=torch.float), torch.tensor(test_labels, dtype=torch.long))\n"
     ]
    }
   ],
   "source": [
    "train_data = train_data.reshape((-1, 3, 32, 32))\n",
    "test_data = test_data.reshape((-1, 3, 32, 32))\n",
    "\n",
    "# Create TensorDatasets\n",
    "train_dataset = TensorDataset(torch.tensor(train_data, dtype=torch.float), torch.tensor(train_labels, dtype=torch.long))\n",
    "test_dataset = TensorDataset(torch.tensor(test_data, dtype=torch.float), torch.tensor(test_labels, dtype=torch.long))\n",
    "\n",
    "# Create DataLoaders\n",
    "trainloader = DataLoader(train_dataset, batch_size=64, shuffle=True)\n",
    "testloader = DataLoader(test_dataset, batch_size=64, shuffle=False)"
   ]
  },
  {
   "cell_type": "code",
   "execution_count": 23,
   "metadata": {},
   "outputs": [
    {
     "name": "stderr",
     "output_type": "stream",
     "text": [
      "C:\\Users\\Aditya\\AppData\\Local\\Temp\\ipykernel_49764\\926196593.py:2: UserWarning: To copy construct from a tensor, it is recommended to use sourceTensor.clone().detach() or sourceTensor.clone().detach().requires_grad_(True), rather than torch.tensor(sourceTensor).\n",
      "  train_dataset = TensorDataset(torch.tensor(train_data.reshape(-1, 3, 32, 32), dtype=torch.float), torch.tensor(train_labels, dtype=torch.long))\n",
      "C:\\Users\\Aditya\\AppData\\Local\\Temp\\ipykernel_49764\\926196593.py:3: UserWarning: To copy construct from a tensor, it is recommended to use sourceTensor.clone().detach() or sourceTensor.clone().detach().requires_grad_(True), rather than torch.tensor(sourceTensor).\n",
      "  test_dataset = TensorDataset(torch.tensor(test_data.reshape(-1, 3, 32, 32), dtype=torch.float), torch.tensor(test_labels, dtype=torch.long))\n"
     ]
    },
    {
     "name": "stdout",
     "output_type": "stream",
     "text": [
      "Epoch 1, Train Loss: 0.9729, Test Loss: 0.5906, Train Acc: 68.31%, Test Acc: 68.75%\n",
      "Epoch 2, Train Loss: 0.5476, Test Loss: 0.5035, Train Acc: 76.83%, Test Acc: 75.70%\n",
      "Epoch 3, Train Loss: 0.5015, Test Loss: 0.5485, Train Acc: 75.69%, Test Acc: 74.40%\n",
      "Epoch 4, Train Loss: 0.4713, Test Loss: 0.5479, Train Acc: 76.94%, Test Acc: 73.55%\n",
      "Epoch 5, Train Loss: 0.4511, Test Loss: 0.5057, Train Acc: 80.07%, Test Acc: 75.80%\n",
      "Epoch 6, Train Loss: 0.4218, Test Loss: 0.5048, Train Acc: 81.66%, Test Acc: 76.65%\n",
      "Epoch 7, Train Loss: 0.4001, Test Loss: 0.4922, Train Acc: 82.09%, Test Acc: 76.35%\n",
      "Epoch 8, Train Loss: 0.3870, Test Loss: 0.4933, Train Acc: 85.83%, Test Acc: 77.25%\n",
      "Epoch 9, Train Loss: 0.3720, Test Loss: 0.4834, Train Acc: 86.97%, Test Acc: 77.95%\n",
      "Epoch 10, Train Loss: 0.3526, Test Loss: 0.5203, Train Acc: 85.10%, Test Acc: 76.05%\n"
     ]
    }
   ],
   "source": [
    "# Assuming the original CIFAR-10 data has been loaded into train_data and test_data with proper image shapes\n",
    "train_dataset = TensorDataset(torch.tensor(train_data.reshape(-1, 3, 32, 32), dtype=torch.float), torch.tensor(train_labels, dtype=torch.long))\n",
    "test_dataset = TensorDataset(torch.tensor(test_data.reshape(-1, 3, 32, 32), dtype=torch.float), torch.tensor(test_labels, dtype=torch.long))\n",
    "\n",
    "trainloader = DataLoader(train_dataset, batch_size=64, shuffle=True)\n",
    "testloader = DataLoader(test_dataset, batch_size=64, shuffle=False)\n",
    "\n",
    "\n",
    "class CNN(nn.Module):\n",
    "    def __init__(self):\n",
    "        super(CNN, self).__init__()\n",
    "        self.conv1 = nn.Conv2d(3, 16, kernel_size=5, stride=1, padding=2)\n",
    "        self.pool = nn.MaxPool2d(2, 2)\n",
    "        self.conv2 = nn.Conv2d(16, 32, kernel_size=5, stride=1, padding=2)\n",
    "        self.fc1 = nn.Linear(32 * 8 * 8, 120)\n",
    "        self.fc2 = nn.Linear(120, 10)\n",
    "\n",
    "    def forward(self, x):\n",
    "        x = self.pool(torch.relu(self.conv1(x)))\n",
    "        x = self.pool(torch.relu(self.conv2(x)))\n",
    "        x = x.view(-1, 32 * 8 * 8)\n",
    "        x = torch.relu(self.fc1(x))\n",
    "        x = self.fc2(x)\n",
    "        return x\n",
    "\n",
    "# Initialize CNN, loss function, and optimizer\n",
    "cnn = CNN()\n",
    "criterion_cnn = nn.CrossEntropyLoss()\n",
    "optimizer_cnn = optim.Adam(cnn.parameters(), lr=0.001)\n",
    "\n",
    "# Function to calculate accuracy\n",
    "def calculate_accuracy(model, data_loader):\n",
    "    model.eval()  # Set the model to evaluation mode\n",
    "    correct = 0\n",
    "    total = 0\n",
    "    with torch.no_grad():\n",
    "        for data in data_loader:\n",
    "            images, labels = data\n",
    "            outputs = model(images)\n",
    "            _, predicted = torch.max(outputs.data, 1)\n",
    "            total += labels.size(0)\n",
    "            correct += (predicted == labels).sum().item()\n",
    "    model.train()  # Switch back to training mode\n",
    "    return 100 * correct / total\n",
    "\n",
    "# Assuming trainloader and testloader are defined\n",
    "# Training loop for CNN\n",
    "for epoch in range(10):\n",
    "    cnn.train()\n",
    "    running_loss = 0.0\n",
    "    for i, (inputs, labels) in enumerate(trainloader):\n",
    "        optimizer_cnn.zero_grad()\n",
    "        outputs = cnn(inputs)\n",
    "        loss = criterion_cnn(outputs, labels)\n",
    "        loss.backward()\n",
    "        optimizer_cnn.step()\n",
    "        running_loss += loss.item()\n",
    "\n",
    "    train_acc = calculate_accuracy(cnn, trainloader)\n",
    "    test_acc = calculate_accuracy(cnn, testloader)\n",
    "    train_loss = running_loss / len(trainloader)\n",
    "    test_loss = 0.0\n",
    "    for data in testloader:\n",
    "        images, labels = data\n",
    "        outputs = cnn(images)\n",
    "        loss = criterion_cnn(outputs, labels)\n",
    "        test_loss += loss.item()\n",
    "    test_loss /= len(testloader)\n",
    "\n",
    "    print(f'Epoch {epoch+1}, Train Loss: {train_loss:.4f}, Test Loss: {test_loss:.4f}, Train Acc: {train_acc:.2f}%, Test Acc: {test_acc:.2f}%')\n"
   ]
  },
  {
   "cell_type": "code",
   "execution_count": null,
   "metadata": {},
   "outputs": [],
   "source": []
  }
 ],
 "metadata": {
  "kernelspec": {
   "display_name": "Python 3",
   "language": "python",
   "name": "python3"
  },
  "language_info": {
   "codemirror_mode": {
    "name": "ipython",
    "version": 3
   },
   "file_extension": ".py",
   "mimetype": "text/x-python",
   "name": "python",
   "nbconvert_exporter": "python",
   "pygments_lexer": "ipython3",
   "version": "3.11.9"
  }
 },
 "nbformat": 4,
 "nbformat_minor": 2
}
